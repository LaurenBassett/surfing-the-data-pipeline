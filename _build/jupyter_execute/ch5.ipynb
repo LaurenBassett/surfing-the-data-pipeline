{
 "cells": [
  {
   "cell_type": "markdown",
   "metadata": {},
   "source": [
    "# Web Scraping Using `BeautifulSoup`"
   ]
  },
  {
   "cell_type": "markdown",
   "metadata": {},
   "source": [
    "```{contents} Table of Contents\n",
    ":depth: 4\n",
    "```"
   ]
  },
  {
   "cell_type": "markdown",
   "metadata": {},
   "source": [
    "## Introduction: Is Web Scraping Legal?\n",
    "Web scraping is the practice of downloading the raw HTML code that generates a website, and instead of parsing the code to display it like we do with a web browser whenever we navigate to a page, we dig through the code for data. \n",
    "\n",
    "There are **significant legal and ethical questions** regarding web scraping. Right now, there is a court case - [HiQ Labs vs. LinkedIn](https://en.wikipedia.org/wiki/HiQ_Labs_v._LinkedIn) - that will establish whether and under what conditions web scraping is legal. \n",
    "\n",
    "<img src=\"https://crowdjustice.imgix.net/pictures/courtroom5-gray_uI7BCRV.png?auto=enhance%2Cformat&crop=faces&fit=crop&q=80&w=1200\" width=\"600\" height=\"600\">\n",
    "\n",
    "HiQ is a company that scraps data from individuals' LinkedIn profiles to compile data to use to build models that predict whether employees will leave their positions for new jobs. They use the insights from these models to consult with businesses to reduce employee turnover. In 2017 LinkedIn issued a Cease and Desist order to HiQ and took steps to prevent anyone including HiQ from deploying scrapers on profiles. Because HiQ's business model is entirely dependent on collecting data from LinkedIn profiles, this action by LinkedIn would have caused HiQ to go out of business. Instead, HiQ filed a lawsuit against LinkedIn in federal court. HiQ argued that user profiles contain data that are owned by the LinkedIn users themselves who intend to make that information public using the LinkedIn platform -- and so, because the data owners are sharing their own data, HiQ should be able to access that data. LinkedIn argued that the HiQ's scraping of user data amounts to theft, is a violation of the [Consumer Fraud and Abuse Act](https://en.wikipedia.org/wiki/Computer_Fraud_and_Abuse_Act), and violates LinkedIn users' privacy. \n",
    "\n",
    "In 2017 a federal district court issued an injunction that prevented LinkedIn from blocking HiQ's scraping scripts. The case was appealed to the Circuit Court, where [this injuction was upheld in 2019](https://www.reuters.com/article/us-microsoft-linkedin-profiles/microsofts-linkedin-loses-appeal-over-access-to-user-profiles-idUSKCN1VU21W). In March 2020 LinkedIn filed for the case to be appealed to the U.S. Supreme Court. It is likely that this case will be decided at the highest level in the United States sometime in the next year. What the Supreme Court decides will have [massive ramifications](https://www.natlawreview.com/print/article/linkedin-files-petition-to-supreme-court-hiq-web-scraping-case) on the use of web scraping, data science, and on the tech industry at large. It will establish whether web scraping is legal, legal with restrictions, or illegal, and it will have implications for data ownership and the extent to which large tech companies control and own the data that exist on their platforms.\n",
    "\n",
    "If this debate is interesting to you, here's a longer, philosophically-oriented article about the virtues of web scraping for academic research: https://research.gold.ac.uk/6768/1/Marres_Weltrevede_Scraping_the_Social_draft.pdf\n",
    "\n",
    "Even if scraping is legal, it might not be ethical. Scraping calls a server that is not designed for the transference of data the way an API is. As such, many repeated calls (from bots) to a website for the purpose of scraping data might overwhelm the server, keeping the website's owners from being able to achieve their purpose for having the website. This [article by James Densmore](https://towardsdatascience.com/ethics-in-web-scraping-b96b18136f01) outlines some ethical considerations for scrapers and for website owners, and lays out the following code of conduct: \n",
    "\n",
    "\"I, the web scraper will live by the following principles:\n",
    "\n",
    "* If you have a public API that provides the data I’m looking for, I’ll use it and avoid scraping all together.\n",
    "\n",
    "* I will always provide a User Agent string that makes my intentions clear and provides a way for you to contact me with questions or concerns.\n",
    "\n",
    "* I will request data at a reasonable rate. I will strive to never be confused for a DDoS attack.\n",
    "\n",
    "* I will only save the data I absolutely need from your page. If all I need it OpenGraph meta-data, that’s all I’ll keep.\n",
    "\n",
    "* I will respect any content I do keep. I’ll never pass it off as my own.\n",
    "\n",
    "* I will look for ways to return value to you. Maybe I can drive some (real) traffic to your site or credit you in an article or post.\n",
    "\n",
    "* I will respond in a timely fashion to your outreach and work with you towards a resolution.\n",
    "\n",
    "* I will scrape for the purpose of creating new value from the data, not to duplicate it.\n",
    "\n",
    " . . . . I, the site owner will live by the following principles:\n",
    "\n",
    "* I will allow ethical scrapers to access my site as long as they are not a burden on my site’s performance.\n",
    "\n",
    "* I will respect transparent User Agent strings rather than blocking them and encouraging use of scrapers masked as human visitors.\n",
    "\n",
    "* I will reach out to the owner of the scraper (thanks to their ethical User Agent string) before blocking permanently. A temporary block is acceptable in the case of site performance or ethical concerns.\n",
    "\n",
    "* I understand that scrapers are a reality of the open web.\n",
    "\n",
    "* I will consider public APIs to provide data as an alternative to scrapers.\"\n",
    "\n",
    "In general, while scraping appears to exist in a legal and ethical grey area, there is a lot of litigation and many arguments that suggest that once information is posted publically on a website, that there is no longer an expectation of privacy, and the data is open for anyone to use. But be careful when you use web scraping! If there IS an expectation of privacy, such as for any website with a password or other restrictions on access, then the legality and ethics of web scraping are much more dubious. If an API is available, it's available for a reason, and it's the correct ethical decision to use the API instead of scraping. Use care and judgment."
   ]
  },
  {
   "cell_type": "markdown",
   "metadata": {},
   "source": [
    "## How Websites Prevent You From Scraping\n",
    "This discussion follows the excellent overview by a Stack Overflow and GitHub contributor with the username JonasCz (I wish I knew this user's real name!) on [how to prevent web scraping](https://github.com/JonasCz/How-To-Prevent-Scraping/blob/master/README.md).\n",
    "\n",
    "To understand the restrictions and challenges you will encounter when scraping data, put yourself in the position of a website's owner:\n",
    "\n",
    "If you own and maintain a website, there are many reasons why you might want to prevent web scraping bots from accessing the data on your website. Maybe the bots will overload the traffic to your site and make it impossible for your website to work as you intend. You might be running a business through this website and sharing the data in mass transfers would undercut your business. For whatever reason, you are now faced with a challenge: how to you prevent automated scraping of the data on your webpage while still allowing individual customers to view your website?\n",
    "\n",
    "Web scraping will require issuing HTTP requests to a particular web address with a tool like `requests`, sometimes many times in a short period. Every HTTP request is logged by the server that receives the request, and these logs contain the IP address of the entity making the request. If too many requests are made by the same IP address, the server can block that IP address. The coding logic to automatically identify and block overactive IP addresses is simple, so many websites include these security measures. Some blocks are temporary, placing a rate limit on these requests to slow down the scrapers, and some blocks reroute scrapers through a CAPTCHA (which stands for \"Completely Automated Test to Tell Computers and Humans Apart\") to prevent robots like a scraper from accessing the website. JonasCz recommends that these security measures look at other factors as well: the speed of actions on the website, the amount of data requested, and other factors that can identify a user when the IP address is masked.\n",
    "\n",
    "Stronger gates, such as making users register for a username and password with email confirmation to use your website, are effective against scraping bots. But they also turn away individuals who wouldn't want to jump through those hoops. Saving all text as images on your server will prevent bots from accessing the text very easily, but it makes the website harder to use and violates regulations that protect people with disabilities.\n",
    "\n",
    "Instead, JonasCz recommends building your website in a way that never reveals the entirety of the data you own, and never reveals the private API endpoints you use to display the data. Also, web scrapers are fragile: they are built to pull data from the specific HTML structure of a particular website. Changing the HTML code frequently or using different versions of the code based on geographic location will break the scrapers that are built for that code. JonasCz also suggests adding \"honeypot\" links to the HTML code that will not be displayed to legitimate users but will be followed by scrapers that recursively follow links, and taking action against the agents that follow these links: block their IP addresses, require a CAPTCHA, or deliver fake data.\n",
    "\n",
    "One important piece of information in a request is the user agent header (which we discuss in more detail [below](#useragent)). JonasCz recommends looking at this information and blocking requests when the user agent is blank or matches information from agents that have previously been identified as malicious bots.\n",
    "\n",
    "Understanding the steps you would take to protect your data from bots if you owned a website, you should have greater insight into why a web scraping endeavor may fail. Your web scraper might not be malicious, but might still violate the rules that the website owner setup to guard against bots. These rules are usually listed explicitly in a file on the server, usually called `robots.txt`. Some tips for reading and understanding a `robots.txt` file are here: https://www.promptcloud.com/blog/how-to-read-and-respect-robots-file/\n",
    "\n",
    "For example, in this document we will be scraping data on the playlist of a radio station from https://spinitron.com/. This website has a `robots.txt` file here: https://spinitron.com/robots.txt, which reads:\n",
    "```\n",
    "User-agent: *\n",
    "Crawl-delay: 10\n",
    "Request-rate: 1/10\n",
    "```\n",
    "The `User-agent: *` line tells us that the next two lines apply to all user agent strings. `Crawl-delay: 10` places a limit on the frequency with which our scraper can make a request from this website. In this case, individual requests must be made 10 second apart. `Request-rate: 1/10` tells us that our scraper is only allowed to access one page every 10 seconds, and that we are not allowed to make requests from more than one page at the same time."
   ]
  },
  {
   "cell_type": "markdown",
   "metadata": {},
   "source": [
    "## Using `requests` with a User Agent Header\n",
    "As the articles by James Densmore and JonasCz described, requests are much more likely to get blocked by websites if the request does not specify a header that contains a user agent. An HTTP header is a parameter that gets sent along with the HTTP request that contains metadata about the request. A user agent header contains contact and identification information about the person making the request. If there is any issue with your web scraper, you want to give the website owner a chance to contact you directly about that problem. If you do not feel comfortable being contacted by the website's owner, you should reconsider whether you should be scraping that website.\n",
    "\n",
    "Fortunately, it is straightforward to include headers in a GET request using `requests`: just use the `headers` argument. First, we import the relevant libraries:"
   ]
  },
  {
   "cell_type": "code",
   "execution_count": 1,
   "metadata": {
    "execution": {
     "iopub.execute_input": "2020-08-04T19:25:17.980609Z",
     "iopub.status.busy": "2020-08-04T19:25:17.980194Z",
     "iopub.status.idle": "2020-08-04T19:25:18.325091Z",
     "shell.execute_reply": "2020-08-04T19:25:18.324510Z"
    }
   },
   "outputs": [],
   "source": [
    "import numpy as np\n",
    "import pandas as pd\n",
    "import requests"
   ]
  },
  {
   "cell_type": "markdown",
   "metadata": {},
   "source": [
    "In module 4 we issued GET requests from the Wikipedia API as an example."
   ]
  },
  {
   "cell_type": "code",
   "execution_count": 2,
   "metadata": {
    "execution": {
     "iopub.execute_input": "2020-08-04T19:25:18.328527Z",
     "iopub.status.busy": "2020-08-04T19:25:18.328008Z",
     "iopub.status.idle": "2020-08-04T19:25:19.022843Z",
     "shell.execute_reply": "2020-08-04T19:25:19.023243Z"
    }
   },
   "outputs": [
    {
     "data": {
      "text/plain": [
       "<Response [200]>"
      ]
     },
     "execution_count": 2,
     "metadata": {},
     "output_type": "execute_result"
    }
   ],
   "source": [
    "r = requests.get(\"https://en.wikipedia.org/w/api.php\")\n",
    "r"
   ]
  },
  {
   "cell_type": "markdown",
   "metadata": {},
   "source": [
    "To add a user agent string, I use the following code:"
   ]
  },
  {
   "cell_type": "code",
   "execution_count": 3,
   "metadata": {
    "execution": {
     "iopub.execute_input": "2020-08-04T19:25:19.027155Z",
     "iopub.status.busy": "2020-08-04T19:25:19.026724Z",
     "iopub.status.idle": "2020-08-04T19:25:19.362364Z",
     "shell.execute_reply": "2020-08-04T19:25:19.361955Z"
    }
   },
   "outputs": [
    {
     "data": {
      "text/plain": [
       "<Response [200]>"
      ]
     },
     "execution_count": 3,
     "metadata": {},
     "output_type": "execute_result"
    }
   ],
   "source": [
    "headers = {'user-agent': 'Kropko class example (jkropko@virginia.edu)'}\n",
    "r = requests.get(\"https://en.wikipedia.org/w/api.php\", headers = headers)\n",
    "r"
   ]
  },
  {
   "cell_type": "markdown",
   "metadata": {},
   "source": [
    "What information needs to go into a user agent header? Different resources have different information about that. According to [Amazon Web Services](https://docs.developer.amazonservices.com/en_US/dev_guide/DG_UserAgentHeader.html), a user agent should identify your application, its version number, and programming language. So a user agent should look like this:"
   ]
  },
  {
   "cell_type": "code",
   "execution_count": 4,
   "metadata": {
    "execution": {
     "iopub.execute_input": "2020-08-04T19:25:19.365998Z",
     "iopub.status.busy": "2020-08-04T19:25:19.365617Z",
     "iopub.status.idle": "2020-08-04T19:25:19.742078Z",
     "shell.execute_reply": "2020-08-04T19:25:19.741634Z"
    }
   },
   "outputs": [
    {
     "data": {
      "text/plain": [
       "<Response [200]>"
      ]
     },
     "execution_count": 4,
     "metadata": {},
     "output_type": "execute_result"
    }
   ],
   "source": [
    "headers = {'user-agent': 'Kropko class example version 1.0 (jkropko@virginia.edu) (Language=Python 3.8.2; Platform=Mac OSX 10.15.5)'}\n",
    "r = requests.get(\"https://en.wikipedia.org/w/api.php\", headers = headers)\n",
    "r"
   ]
  },
  {
   "cell_type": "markdown",
   "metadata": {},
   "source": [
    "Including a user agent is not hard, and it goes a long way towards alleviating the anxieties that website owners have about dealing with your web scraping code. It is a good practice to cultivate into a habit. "
   ]
  },
  {
   "cell_type": "markdown",
   "metadata": {},
   "source": [
    "## Using `BeautifulSoup()` (Example: WNRN, Charlottesville's Legendary Radio Station)\n",
    "WNRN is a legendary radio station, and it's based right here in Charlottesville at 91.9 FM (and streaming online at www.wnrn.org). It's commercial-free, with only a few interruptions for local nonprofits to tell you about cool things happening in town. They play a mix of new and classic alternative rock and R&B. They emphasize music for bands coming to play at local venues. And they play the Grateful Dead on Saturday mornings. You should be listening to WNRN!\n",
    "\n",
    "<center><img src=\"https://upload.wikimedia.org/wikipedia/en/thumb/0/0e/WNRN-FM_2014.PNG/200px-WNRN-FM_2014.PNG\" width=\"300\" height=\"300\" class=\"center\"></img></center>\n",
    "\n",
    "The playlist of the songs that WNRN has played in the last few hours is here: https://spinitron.com/WNRN/. I want to scrape the data off this website. I also want to scrape the data off of the additional playlists that this website links to, to collect as much data as possible. Our goal in this example is to create a dataframe of each song WNRN has played, the artist, the album, and the time each song was played.\n",
    "\n",
    "The process involves four steps:\n",
    "\n",
    "1. Download the raw text of the HTML code for the website we want to scrape using the `requests` library.\n",
    "\n",
    "2. Use the `BeautifulSoup()` function from the `bs4` library to parse the raw text so that Python can understand, search through, and operate on the HTML tags from string.\n",
    "\n",
    "3. Use methods associated with `BeautifulSoup()` to extract the data we need from the HTML code.\n",
    "\n",
    "4. Place the data into a `pandas` data frame."
   ]
  },
  {
   "cell_type": "markdown",
   "metadata": {},
   "source": [
    "### Downloading and Understanding Raw HTML\n",
    "For this example, I first download the HTML that exists on https://spinitron.com/WNRN using the `requests.get()` function. To be ethical and to help this website's owners know that I am not a malicious actor, I also specify a user agent string. "
   ]
  },
  {
   "cell_type": "code",
   "execution_count": 5,
   "metadata": {
    "execution": {
     "iopub.execute_input": "2020-08-04T19:25:19.745851Z",
     "iopub.status.busy": "2020-08-04T19:25:19.745430Z",
     "iopub.status.idle": "2020-08-04T19:25:20.166962Z",
     "shell.execute_reply": "2020-08-04T19:25:20.167297Z"
    }
   },
   "outputs": [
    {
     "data": {
      "text/plain": [
       "<Response [200]>"
      ]
     },
     "execution_count": 5,
     "metadata": {},
     "output_type": "execute_result"
    }
   ],
   "source": [
    "url = \"https://spinitron.com/WNRN\"\n",
    "headers = {'user-agent': 'Kropko class example (jkropko@virginia.edu)'}\n",
    "r = requests.get(url, headers=headers)\n",
    "r"
   ]
  },
  {
   "cell_type": "markdown",
   "metadata": {},
   "source": [
    "The raw HTML code contains a series of text fragments that look like this,\n",
    "```\n",
    "<tag attribute=\"value\"> Navigable string </tag>\n",
    "```\n",
    "where `tag`, `attribute`, `\"value\"`, and `Navigable string` are replaced by specific parameters and data that control the content and presentation of the webpage that gets displayed in a web browser. For example, here are the first 1000 characters of the raw text from WNRN's playlist:"
   ]
  },
  {
   "cell_type": "code",
   "execution_count": 6,
   "metadata": {
    "execution": {
     "iopub.execute_input": "2020-08-04T19:25:20.171101Z",
     "iopub.status.busy": "2020-08-04T19:25:20.170641Z",
     "iopub.status.idle": "2020-08-04T19:25:20.172860Z",
     "shell.execute_reply": "2020-08-04T19:25:20.172416Z"
    }
   },
   "outputs": [
    {
     "name": "stdout",
     "output_type": "stream",
     "text": [
      "\n",
      "<!doctype html><html lang=\"en\">\n",
      "<head>\n",
      "    <meta charset=\"utf-8\">\n",
      "    <meta http-equiv=\"X-UA-Compatible\" content=\"IE=edge\">\n",
      "    <meta name=\"viewport\" content=\"width=device-width, initial-scale=1,maximum-scale=1\">\n",
      "    <title>WNRN – Independent Music Radio</title>\n",
      "    <meta name=\"description\" content=\"A member supported Independent Music Radio Station serving Central Virginia and the Shenandoah Valley\">\n",
      "\n",
      "    <link rel=\"apple-touch-icon\" href=\"apple-touch-icon.png\">\n",
      "                <meta name=\"csrf-param\" content=\"_csrf\">\n",
      "<meta name=\"csrf-token\" content=\"eknKXZWaf5ijsgMC6RcIBJvG4AopJglRV70RDIDSapARPocr4uMT9_vKbGaZXFpSzoiBY3ZnMGYghSZi04UowA==\">\n",
      "\n",
      "    <meta property=\"og:url\" content=\"/WNRN/\">\n",
      "<meta property=\"og:title\" content=\"WNRN – Independent Music Radio\">\n",
      "<meta property=\"og:description\" content=\"A member supported Independent Music Radio Station serving Central Virginia and the Shenandoah Valley\">\n",
      "<meta property=\"og:image\" content=\"https://spinitron.com/images/Station/13/1326-img_logo.2\n"
     ]
    }
   ],
   "source": [
    "print(r.text[0:1000])"
   ]
  },
  {
   "cell_type": "markdown",
   "metadata": {},
   "source": [
    "**Tags** specify how the data contained within the page are organized and how the visual elements on this page should look. Tags are designated by opening and closing angle braces, < and >. In the HTML code displayed above, there are tags named \n",
    "\n",
    "* `<html>`, which tells browsers that the following code is written in HTML, \n",
    "* `<meta>`, which defines metadata in the document that help govern how the output shold be displayed in the browser, \n",
    "* `<title>`, which sets the title of the document, and \n",
    "* `<link>`, which pulls data or images from external resources for later use. \n",
    "\n",
    "To see what other HTML tags do, look at the list on https://www.w3schools.com/TAGs/. \n",
    "\n",
    "In some cases the tag operates on the text that immediately follows, and a closing tag `</tag>` frames the text that gets operated on by the tag. The text in between the opening and closing tag is called the **navigable string**. For example, the tag `<title>WNRN – Independent Music Radio</title>` specifies that \"WNRN – Independent Music Radio\", and only this string, is the title.\n",
    "\n",
    "Some tags have **attributes**, which are arguments listed inside an opening tag to modify the behavior of that tag or to attach relevant data to the tag. The first `<html>` tag listed above contains an attribute `lang` with a value `\"en\"` that specifies that this document contains HTML code in English.\n",
    "\n"
   ]
  },
  {
   "cell_type": "markdown",
   "metadata": {},
   "source": [
    "### Parsing Raw HTML Using `BeautifulSoup()`\n",
    "The `requests.get()` function only downloads the raw text of the HTML code, but it does not yet understand the logic and organization of the HTML code. Getting Python to register text as a particular coding standard is called **parsing** the code. We've parsed code into Python before with JSON data. We used `requests.get()` to download the JSON formatted data, but we needed `json.loads()` to parse the data in order to be able to navigate the branches of the JSON tree. \n",
    "\n",
    "There are two widely used Python libraries for parsing HTML data: `bs4` which contains the `BeautifulSoup()` function, and `selenium`. `BeautifulSoup()` works with raw text, but cannot access websites themselves (we use `requests.get()` for that). In order to access the data on a website, the data needs to be visible in the raw HTML that `requests.get()` returns. If there are measures taken by a website to hide that data, possibly by calling server-side Javascript to populate data fields, or by saving data as image files, then we won't be able to access the data with an HTML parser. `selenium` has more features to extract more complicated data and circumvent anti-scraping measures, such as taking a screenshot of the webpage in a browser and using optical character recognition (OCR) to pull data directly from the image. However, `selenium` requires each request to be loaded in a web browser, so it can be quite a bit slower than `BeautifulSoup()`. If you are interested in learning how to use `selenium`, see this guide: https://selenium-python.readthedocs.io/. Here we will be using `BeautifulSoup()`.\n",
    "\n",
    "First I import the `BeautifulSoup()` function:"
   ]
  },
  {
   "cell_type": "code",
   "execution_count": 7,
   "metadata": {
    "execution": {
     "iopub.execute_input": "2020-08-04T19:25:20.175465Z",
     "iopub.status.busy": "2020-08-04T19:25:20.175048Z",
     "iopub.status.idle": "2020-08-04T19:25:20.223564Z",
     "shell.execute_reply": "2020-08-04T19:25:20.223176Z"
    }
   },
   "outputs": [],
   "source": [
    "from bs4 import BeautifulSoup"
   ]
  },
  {
   "cell_type": "markdown",
   "metadata": {},
   "source": [
    "To use it, we pass the `.text` attribute of the `requests.get()` output from https://spinitron.com/WNRN to `BeautifulSoup()` (which I saved as `r.text` above). This function can parse either HTML or XML code, so the second argument should specify HTML:"
   ]
  },
  {
   "cell_type": "code",
   "execution_count": 8,
   "metadata": {
    "execution": {
     "iopub.execute_input": "2020-08-04T19:25:20.226656Z",
     "iopub.status.busy": "2020-08-04T19:25:20.226216Z",
     "iopub.status.idle": "2020-08-04T19:25:20.351108Z",
     "shell.execute_reply": "2020-08-04T19:25:20.350727Z"
    }
   },
   "outputs": [
    {
     "name": "stderr",
     "output_type": "stream",
     "text": [
      "/opt/anaconda3/lib/python3.7/site-packages/bs4/__init__.py:181: UserWarning: No parser was explicitly specified, so I'm using the best available HTML parser for this system (\"lxml\"). This usually isn't a problem, but if you run this code on another system, or in a different virtual environment, it may use a different parser and behave differently.\n",
      "\n",
      "The code that caused this warning is on line 193 of the file /opt/anaconda3/lib/python3.7/runpy.py. To get rid of this warning, change code that looks like this:\n",
      "\n",
      " BeautifulSoup(YOUR_MARKUP})\n",
      "\n",
      "to this:\n",
      "\n",
      " BeautifulSoup(YOUR_MARKUP, \"lxml\")\n",
      "\n",
      "  markup_type=markup_type))\n"
     ]
    }
   ],
   "source": [
    "wnrn = BeautifulSoup(r.text, 'html')"
   ]
  },
  {
   "cell_type": "markdown",
   "metadata": {},
   "source": [
    "Now that the https://spinitron.com/WNRN source code is registered as HTML code in Python, we can begin executing commands to navigate the organizational structure of the code and extract data. "
   ]
  },
  {
   "cell_type": "markdown",
   "metadata": {},
   "source": [
    "### Searching for HTML Tags and Extracting Data\n",
    "While HTML is a coding language, it does not force coders to follow very strict templates. There's a lot of flexibility and creativity possible for HTML programmers, and as such, there is no one universal method for extracting data from HTML. The best approach is to open a browser window, navigate to the webpage you want to scrape, and \"view page source\". (Different web browsers have different ways to do that. On Mozilla Firefox, right click somewhere on the page other than an active link, and \"view page source\" should be an option.) The source will display the raw HTML code that generates the page. You will need to search through this code to find examples of the data points you intend to collect, possibly using control+F to search for specific values. Once you find the data you need, make note of the tags that surround the data and use the tools we will describe next to extract the data.\n",
    "\n",
    "The parsable HTML `BeautifulSoup()` output, `wnrn`, has important methods and attributes that we will use to extract the data we want. First, we can use the name of a tag as an attribute to extract the first occurrence of that tag. Here we extract the first `<meta>` tag:"
   ]
  },
  {
   "cell_type": "code",
   "execution_count": 9,
   "metadata": {
    "execution": {
     "iopub.execute_input": "2020-08-04T19:25:20.354311Z",
     "iopub.status.busy": "2020-08-04T19:25:20.353792Z",
     "iopub.status.idle": "2020-08-04T19:25:20.356263Z",
     "shell.execute_reply": "2020-08-04T19:25:20.356566Z"
    }
   },
   "outputs": [
    {
     "data": {
      "text/plain": [
       "<meta charset=\"utf-8\"/>"
      ]
     },
     "execution_count": 9,
     "metadata": {},
     "output_type": "execute_result"
    }
   ],
   "source": [
    "metatag = wnrn.meta\n",
    "metatag"
   ]
  },
  {
   "cell_type": "markdown",
   "metadata": {},
   "source": [
    "This tag stores its attributes as a list, so we can extract the value of an attribute by calling the name of that attribute as follows:"
   ]
  },
  {
   "cell_type": "code",
   "execution_count": 10,
   "metadata": {
    "execution": {
     "iopub.execute_input": "2020-08-04T19:25:20.361323Z",
     "iopub.status.busy": "2020-08-04T19:25:20.360709Z",
     "iopub.status.idle": "2020-08-04T19:25:20.363080Z",
     "shell.execute_reply": "2020-08-04T19:25:20.363416Z"
    }
   },
   "outputs": [
    {
     "data": {
      "text/plain": [
       "'utf-8'"
      ]
     },
     "execution_count": 10,
     "metadata": {},
     "output_type": "execute_result"
    }
   ],
   "source": [
    "metatag['charset']"
   ]
  },
  {
   "cell_type": "markdown",
   "metadata": {},
   "source": [
    "If a tag has a navigable string, we can extract that with the `.string` attribute of a particular tag. For example, to extract the title, we start with the `<title>` tag:"
   ]
  },
  {
   "cell_type": "code",
   "execution_count": 11,
   "metadata": {
    "execution": {
     "iopub.execute_input": "2020-08-04T19:25:20.366708Z",
     "iopub.status.busy": "2020-08-04T19:25:20.366270Z",
     "iopub.status.idle": "2020-08-04T19:25:20.368846Z",
     "shell.execute_reply": "2020-08-04T19:25:20.368409Z"
    }
   },
   "outputs": [
    {
     "data": {
      "text/plain": [
       "<title>WNRN – Independent Music Radio</title>"
      ]
     },
     "execution_count": 11,
     "metadata": {},
     "output_type": "execute_result"
    }
   ],
   "source": [
    "titletag = wnrn.title\n",
    "titletag"
   ]
  },
  {
   "cell_type": "markdown",
   "metadata": {},
   "source": [
    "Then we extract the title as follows:"
   ]
  },
  {
   "cell_type": "code",
   "execution_count": 12,
   "metadata": {
    "execution": {
     "iopub.execute_input": "2020-08-04T19:25:20.371604Z",
     "iopub.status.busy": "2020-08-04T19:25:20.371170Z",
     "iopub.status.idle": "2020-08-04T19:25:20.373349Z",
     "shell.execute_reply": "2020-08-04T19:25:20.373683Z"
    }
   },
   "outputs": [
    {
     "data": {
      "text/plain": [
       "'WNRN – Independent Music Radio'"
      ]
     },
     "execution_count": 12,
     "metadata": {},
     "output_type": "execute_result"
    }
   ],
   "source": [
    "titletag.string"
   ]
  },
  {
   "cell_type": "markdown",
   "metadata": {},
   "source": [
    "Our goal in this example is to extract the artist, song, album, and time played for every song played on WNRN. I look in the raw HTML source code for the first instance of an artist. These data are contained in the `<span>` tags:"
   ]
  },
  {
   "cell_type": "code",
   "execution_count": 13,
   "metadata": {
    "execution": {
     "iopub.execute_input": "2020-08-04T19:25:20.377215Z",
     "iopub.status.busy": "2020-08-04T19:25:20.376776Z",
     "iopub.status.idle": "2020-08-04T19:25:20.379413Z",
     "shell.execute_reply": "2020-08-04T19:25:20.378976Z"
    }
   },
   "outputs": [
    {
     "data": {
      "text/plain": [
       "<span class=\"artist\">Greyhounds</span>"
      ]
     },
     "execution_count": 13,
     "metadata": {},
     "output_type": "execute_result"
    }
   ],
   "source": [
    "spantag = wnrn.span\n",
    "spantag"
   ]
  },
  {
   "cell_type": "markdown",
   "metadata": {},
   "source": [
    "Calling one tag is not especially useful, because we generally want to extract all of the relevant data on a page. For that, we can use the `.find_next()` and `.find_all()` methods, both of which are very literal. The next `<span>` tag in the HTML code contains the song associated with the artist:"
   ]
  },
  {
   "cell_type": "code",
   "execution_count": 14,
   "metadata": {
    "execution": {
     "iopub.execute_input": "2020-08-04T19:25:20.382564Z",
     "iopub.status.busy": "2020-08-04T19:25:20.382103Z",
     "iopub.status.idle": "2020-08-04T19:25:20.384746Z",
     "shell.execute_reply": "2020-08-04T19:25:20.384297Z"
    }
   },
   "outputs": [
    {
     "data": {
      "text/plain": [
       "<span class=\"song\">Tune In</span>"
      ]
     },
     "execution_count": 14,
     "metadata": {},
     "output_type": "execute_result"
    }
   ],
   "source": [
    "spantag.find_next()"
   ]
  },
  {
   "cell_type": "markdown",
   "metadata": {},
   "source": [
    "And the next occurrence of `<span>` contains the album name (under `\"release\"`):"
   ]
  },
  {
   "cell_type": "code",
   "execution_count": 15,
   "metadata": {
    "execution": {
     "iopub.execute_input": "2020-08-04T19:25:20.387970Z",
     "iopub.status.busy": "2020-08-04T19:25:20.387546Z",
     "iopub.status.idle": "2020-08-04T19:25:20.389782Z",
     "shell.execute_reply": "2020-08-04T19:25:20.390131Z"
    }
   },
   "outputs": [
    {
     "data": {
      "text/plain": [
       "<div class=\"info\"><span class=\"release\">Primates</span></div>"
      ]
     },
     "execution_count": 15,
     "metadata": {},
     "output_type": "execute_result"
    }
   ],
   "source": [
    "spantag.find_next().find_next()"
   ]
  },
  {
   "cell_type": "markdown",
   "metadata": {},
   "source": [
    "To find all occurrences of the `<span>` tag, organized in a list, use `.find_all()` and provide the tag as the argument:"
   ]
  },
  {
   "cell_type": "code",
   "execution_count": 16,
   "metadata": {
    "execution": {
     "iopub.execute_input": "2020-08-04T19:25:20.404320Z",
     "iopub.status.busy": "2020-08-04T19:25:20.403873Z",
     "iopub.status.idle": "2020-08-04T19:25:20.406586Z",
     "shell.execute_reply": "2020-08-04T19:25:20.406146Z"
    }
   },
   "outputs": [
    {
     "data": {
      "text/plain": [
       "[<span class=\"artist\">Greyhounds</span>,\n",
       " <span class=\"song\">Tune In</span>,\n",
       " <span class=\"release\">Primates</span>,\n",
       " <span class=\"artist\">Soccer Mommy</span>,\n",
       " <span class=\"song\">Circle the Drain</span>,\n",
       " <span class=\"release\">Color Theory</span>,\n",
       " <span class=\"artist\">The Head &amp; the Heart</span>,\n",
       " <span class=\"song\">Sounds Like Hallelujah</span>,\n",
       " <span class=\"release\">The Head &amp; the Heart</span>,\n",
       " <span class=\"artist\">Stray Fossa</span>,\n",
       " <span class=\"song\">For What Was</span>,\n",
       " <span class=\"release\">(Single)</span>,\n",
       " <span class=\"artist\">Margo Price</span>,\n",
       " <span class=\"song\">Letting Me Down</span>,\n",
       " <span class=\"release\">That's How Rumors Get Started</span>,\n",
       " <span class=\"artist\">Sturgill Simpson</span>,\n",
       " <span class=\"song\">Turtles All the Way Down</span>,\n",
       " <span class=\"release\">Metamodern Sounds In Country Music</span>,\n",
       " <span class=\"artist\">Southern Culture on the Skids</span>,\n",
       " <span class=\"song\">Camel Walk</span>,\n",
       " <span class=\"release\">Dirt Track Date</span>,\n",
       " <span class=\"artist\">Jason Mraz</span>,\n",
       " <span class=\"song\">I'm Yours</span>,\n",
       " <span class=\"release\">We Sing. We Dance. We Steal Things.</span>,\n",
       " <span class=\"artist\">This Is the Kit</span>,\n",
       " <span class=\"song\">This Is What You Did</span>,\n",
       " <span class=\"release\">Off Off On</span>,\n",
       " <span class=\"artist\">Sarah Jarosz</span>,\n",
       " <span class=\"song\">Johnny</span>,\n",
       " <span class=\"release\">World on the Ground</span>,\n",
       " <span class=\"artist\">Jack Johnson</span>,\n",
       " <span class=\"song\">Flake</span>,\n",
       " <span class=\"release\">Brushfire Fairytales</span>,\n",
       " <span class=\"artist\">Devon Gilfillian</span>,\n",
       " <span class=\"song\">The Good Life</span>,\n",
       " <span class=\"release\">Black Hole Rainbow</span>,\n",
       " <span class=\"artist\">Kings of Leon</span>,\n",
       " <span class=\"song\">The Bucket</span>,\n",
       " <span class=\"release\">Aha Shake Heartbreak</span>,\n",
       " <span class=\"artist\">Dan Croll</span>,\n",
       " <span class=\"song\">So Dark</span>,\n",
       " <span class=\"release\">Grand Plan</span>,\n",
       " <span class=\"artist\">Leif Vollebekk f/ Angie McMahon</span>,\n",
       " <span class=\"song\">Apalachee Plain</span>,\n",
       " <span class=\"release\">New Ways</span>,\n",
       " <span class=\"artist\">Greg Laswell</span>,\n",
       " <span class=\"song\">Comes and Goes (In Waves)</span>,\n",
       " <span class=\"release\">I Was Going To Be An Astronaut</span>,\n",
       " <span class=\"artist\">S.G. Goodman</span>,\n",
       " <span class=\"song\">Old Time Feeling</span>,\n",
       " <span class=\"release\">Old Time Feeling</span>,\n",
       " <span class=\"artist\">Eilen Jewell</span>,\n",
       " <span class=\"song\">Green River</span>,\n",
       " <span class=\"release\">(Single)</span>,\n",
       " <span class=\"artist\">Creedence Clearwater Revival</span>,\n",
       " <span class=\"song\">Green River</span>,\n",
       " <span class=\"release\">Woodstock - Back to the Garden</span>,\n",
       " <span class=\"artist\">Rayland Baxter</span>,\n",
       " <span class=\"song\">Casanova</span>,\n",
       " <span class=\"release\">Wide Awake</span>,\n",
       " <span class=\"artist\">Grace Potter &amp; the Nocturnals</span>,\n",
       " <span class=\"song\">Tiny Light</span>,\n",
       " <span class=\"release\">Grace Potter &amp; The Nocturnals</span>,\n",
       " <span class=\"artist\">The Ramones</span>,\n",
       " <span class=\"song\">Teenage Lobotomy</span>,\n",
       " <span class=\"release\">Rocket To Russia</span>,\n",
       " <span class=\"artist\">David Wax Museum</span>,\n",
       " <span class=\"song\">The Persimmon Tree</span>,\n",
       " <span class=\"release\">Carpenter Bird 10th Anniversary</span>,\n",
       " <span class=\"artist\">Katie Pruitt</span>,\n",
       " <span class=\"song\">Expectations</span>,\n",
       " <span class=\"release\">Expectations</span>,\n",
       " <span class=\"artist\">Curtis Harding</span>,\n",
       " <span class=\"song\">On and On</span>,\n",
       " <span class=\"release\">Face Your Fear</span>,\n",
       " <span class=\"artist\">City and Colour</span>,\n",
       " <span class=\"song\">Fragile Bird</span>,\n",
       " <span class=\"release\">Little Hell</span>,\n",
       " <span class=\"artist\">Chuck Prophet</span>,\n",
       " <span class=\"song\">Best Shirt On</span>,\n",
       " <span class=\"release\">The Land That Time Forgot</span>,\n",
       " <span class=\"artist\">Lyle Lovett</span>,\n",
       " <span class=\"song\">You Can't Resist It</span>,\n",
       " <span class=\"release\">Live in Texas</span>,\n",
       " <span class=\"artist\">Lake Street Dive</span>,\n",
       " <span class=\"song\">Call Off Your Dogs</span>,\n",
       " <span class=\"release\">Side Pony</span>,\n",
       " <span class=\"artist\">Old 97's</span>,\n",
       " <span class=\"song\">Turn Off the TV</span>,\n",
       " <span class=\"release\">Twelfth</span>,\n",
       " <span class=\"artist\">EOB</span>,\n",
       " <span class=\"song\">Shangri-La</span>,\n",
       " <span class=\"release\">Earth</span>,\n",
       " <span class=\"artist\">Suzanne Vega and DNA</span>,\n",
       " <span class=\"song\">Tom's Diner</span>,\n",
       " <span class=\"release\">Retrospective</span>,\n",
       " <span class=\"artist\">Real Estate</span>,\n",
       " <span class=\"song\">The Main Thing</span>,\n",
       " <span class=\"release\">The Main Thing</span>,\n",
       " <span class=\"artist\">The Rolling Stones</span>,\n",
       " <span class=\"song\">Living in a Ghost Town</span>,\n",
       " <span class=\"release\">(Single)</span>,\n",
       " <span class=\"artist\">Mark Knopfler</span>,\n",
       " <span class=\"song\">What It Is</span>,\n",
       " <span class=\"release\">Sailing to Philadelphia</span>,\n",
       " <span class=\"artist\">Milky Chance</span>,\n",
       " <span class=\"song\">Stolen Dance</span>,\n",
       " <span class=\"release\">Sadnecessary</span>,\n",
       " <span class=\"artist\">Squeeze</span>,\n",
       " <span class=\"song\">Black Coffee in Bed</span>,\n",
       " <span class=\"release\">Sweets from a Stranger</span>,\n",
       " <span class=\"artist\">Sylvan Esso</span>,\n",
       " <span class=\"song\">Ferris Wheel</span>,\n",
       " <span class=\"release\">Free Love</span>,\n",
       " <span class=\"artist\">Lianne La Havas</span>,\n",
       " <span class=\"song\">Can't Fight</span>,\n",
       " <span class=\"release\">Lianne La Havas</span>,\n",
       " <span class=\"artist\">Talking Heads</span>,\n",
       " <span class=\"song\">Take Me to the River</span>,\n",
       " <span class=\"release\">More Songs About Buildings and Foo</span>,\n",
       " <span class=\"artist\">Givers</span>,\n",
       " <span class=\"song\">Up Up Up</span>,\n",
       " <span class=\"release\">In Light</span>,\n",
       " <span class=\"artist\">Vetiver</span>,\n",
       " <span class=\"song\">Swaying</span>,\n",
       " <span class=\"release\">Up On High</span>,\n",
       " <span class=\"artist\">Dave Matthews Band</span>,\n",
       " <span class=\"song\">Ants Marching</span>,\n",
       " <span class=\"release\">Under the Table &amp; Dreaming</span>,\n",
       " <span class=\"artist\">Strong Water</span>,\n",
       " <span class=\"song\">If I Was</span>,\n",
       " <span class=\"release\">Bearfoot</span>,\n",
       " <span class=\"artist\">Nathaniel Rateliff</span>,\n",
       " <span class=\"song\">Time Stands</span>,\n",
       " <span class=\"release\">And It's Still Alright</span>,\n",
       " <span class=\"artist\">Sea Wolf</span>,\n",
       " <span class=\"song\">Forever Nevermore</span>,\n",
       " <span class=\"release\">Through a Dark Wood</span>,\n",
       " <span class=\"artist\">Citizen Cope</span>,\n",
       " <span class=\"song\">Brother Lee</span>,\n",
       " <span class=\"release\">Every Waking Moment</span>,\n",
       " <span class=\"artist\">Early James</span>,\n",
       " <span class=\"song\">Blue Pill Blues</span>,\n",
       " <span class=\"release\">Singing For My Supper</span>,\n",
       " <span class=\"artist\">Best Coast</span>,\n",
       " <span class=\"song\">The Only Place</span>,\n",
       " <span class=\"release\">The Only Place</span>,\n",
       " <span class=\"artist\">Haim</span>,\n",
       " <span class=\"song\">The Wire</span>,\n",
       " <span class=\"release\">Days Are Gone</span>,\n",
       " <span class=\"artist\">Maceo Parker</span>,\n",
       " <span class=\"song\">Cross the Track</span>,\n",
       " <span class=\"release\">Soul Food: Cooking with Maceo</span>,\n",
       " <span class=\"artist\">Nick Lowe</span>,\n",
       " <span class=\"song\">Lay It On Me Baby</span>,\n",
       " <span class=\"release\">Lay It on Me</span>,\n",
       " <span class=\"artist\">Amos Lee</span>,\n",
       " <span class=\"song\">Windows Are Rolled Down</span>,\n",
       " <span class=\"release\">Mission Bell</span>,\n",
       " <span class=\"artist\">The Legendary Shack Shakers</span>,\n",
       " <span class=\"song\">CB Song</span>,\n",
       " <span class=\"release\">Cockadoodle Don't</span>,\n",
       " <span class=\"artist\">Sonny Landreth</span>,\n",
       " <span class=\"song\">Blacktop Run</span>,\n",
       " <span class=\"release\">Blacktop Run</span>,\n",
       " <span class=\"artist\">Fleet Foxes</span>,\n",
       " <span class=\"song\">Lorelai</span>,\n",
       " <span class=\"release\">Helplessness Blues</span>,\n",
       " <span class=\"artist\">Bright Eyes</span>,\n",
       " <span class=\"song\">Mariana Trench</span>,\n",
       " <span class=\"release\">Down in the Weeds Where the World Once Was</span>,\n",
       " <span class=\"artist\">Blondie</span>,\n",
       " <span class=\"song\">The Tide is High</span>,\n",
       " <span class=\"release\">Autoamerican</span>,\n",
       " <span class=\"artist\">The Jayhawks</span>,\n",
       " <span class=\"song\">This Forgotten Town</span>,\n",
       " <span class=\"release\">XOXO</span>,\n",
       " <span class=\"artist\">Rufus Wainwright</span>,\n",
       " <span class=\"song\">Damsel in Distress</span>,\n",
       " <span class=\"release\">Unfollow the Rules</span>,\n",
       " <span class=\"artist\">The Decemberists</span>,\n",
       " <span class=\"song\">Rise To Me</span>,\n",
       " <span class=\"release\">The King Is Dead</span>,\n",
       " <span class=\"artist\">Bonny Light Horseman</span>,\n",
       " <span class=\"song\">Deep in Love</span>,\n",
       " <span class=\"release\">Bonny Light Horseman</span>,\n",
       " <span class=\"artist\">Local Natives</span>,\n",
       " <span class=\"song\">When am I Gonna Lose You</span>,\n",
       " <span class=\"release\">Violet Street</span>,\n",
       " <span class=\"artist\">Bonnie Raitt w/ John Prine</span>,\n",
       " <span class=\"song\">Angel from Montgomery</span>,\n",
       " <span class=\"release\">Road Tested</span>,\n",
       " <span class=\"artist\">John Craigie</span>,\n",
       " <span class=\"song\">Don't Ask</span>,\n",
       " <span class=\"release\">Asterisk the Universe</span>,\n",
       " <span class=\"artist\">Echo &amp; the Bunnymen</span>,\n",
       " <span class=\"song\">The Killing Moon</span>,\n",
       " <span class=\"release\">Ocean Rain</span>,\n",
       " <span class=\"artist\">The Pretenders</span>,\n",
       " <span class=\"song\">Didn't Want to Be This Lonely</span>,\n",
       " <span class=\"release\">Hate for Sale</span>,\n",
       " <span class=\"artist\">Caroline Rose</span>,\n",
       " <span class=\"song\">Feel the Way I Want</span>,\n",
       " <span class=\"release\">Superstar</span>,\n",
       " <span class=\"artist\">The Revivalists</span>,\n",
       " <span class=\"song\">Oh No</span>,\n",
       " <span class=\"release\">Take Good Care</span>,\n",
       " <span class=\"artist\">Dinner Party</span>,\n",
       " <span class=\"song\">Freeze Tag</span>,\n",
       " <span class=\"release\">Dinner Party</span>,\n",
       " <span class=\"artist\">Courtney Marie Andrews</span>,\n",
       " <span class=\"song\">It Must Be Someone Else's Fault</span>,\n",
       " <span class=\"release\">Old Flowers</span>,\n",
       " <span class=\"artist\">Oasis</span>,\n",
       " <span class=\"song\">Wonderwall</span>,\n",
       " <span class=\"release\">(What's the Story) Morning Glory?</span>,\n",
       " <span class=\"artist\">Brent Cobb</span>,\n",
       " <span class=\"song\">Ain't a Road Too Long</span>,\n",
       " <span class=\"release\">Providence Canyon</span>,\n",
       " <span class=\"artist\">The Avett Brothers</span>,\n",
       " <span class=\"song\">February Seven</span>,\n",
       " <span class=\"release\">The Carpenter</span>,\n",
       " <span class=\"artist\">Toad The Wet Sprocket</span>,\n",
       " <span class=\"song\">All I Want</span>,\n",
       " <span class=\"release\">Fear</span>,\n",
       " <span class=\"artist\">Leisure</span>,\n",
       " <span class=\"song\">Slipping Away</span>,\n",
       " <span class=\"release\">Side A</span>,\n",
       " <span class=\"artist\">Ray LaMontagne</span>,\n",
       " <span class=\"song\">For the Summer</span>,\n",
       " <span class=\"release\">God Willin' &amp; the Creek Don't Rise</span>,\n",
       " <span class=\"artist\">Margo Price</span>,\n",
       " <span class=\"song\">Letting Me Down</span>,\n",
       " <span class=\"release\">That's How Rumors Get Started</span>,\n",
       " <span class=\"artist\">James Vincent McMorrow</span>,\n",
       " <span class=\"song\">Headlights</span>,\n",
       " <span class=\"release\">(Single)</span>,\n",
       " <span class=\"artist\">Loudon Wainwright III</span>,\n",
       " <span class=\"song\">Daughter</span>,\n",
       " <span class=\"release\">Strange Weirdos</span>,\n",
       " <span class=\"artist\">Seth Walker</span>,\n",
       " <span class=\"song\">All I Need to Know</span>,\n",
       " <span class=\"release\">Are You Open?</span>,\n",
       " <span class=\"artist\">Crooked Still</span>,\n",
       " <span class=\"song\">Did You Sleep Well?</span>,\n",
       " <span class=\"release\">Still Crooked</span>,\n",
       " <span class=\"artist\">Neil Young</span>,\n",
       " <span class=\"song\">Try</span>,\n",
       " <span class=\"release\">Homegrown</span>,\n",
       " <span class=\"artist\">Ian Noe</span>,\n",
       " <span class=\"song\">Irene (Ravin' Bomb)</span>,\n",
       " <span class=\"release\">Between the Country</span>,\n",
       " <span class=\"artist\">Corey Harris</span>,\n",
       " <span class=\"song\">Santoro</span>,\n",
       " <span class=\"release\">Down Home Sophisticate</span>,\n",
       " <span class=\"artist\">Danny Barnes</span>,\n",
       " <span class=\"song\">Juke</span>,\n",
       " <span class=\"release\">Man on Fire</span>,\n",
       " <span class=\"artist\">My Morning Jacket</span>,\n",
       " <span class=\"song\">Feel You</span>,\n",
       " <span class=\"release\">The Waterfall II</span>,\n",
       " <span class=\"artist\">Son Volt</span>,\n",
       " <span class=\"song\">Windfall</span>,\n",
       " <span class=\"release\">Trace</span>,\n",
       " <span class=\"artist\">Patty Larkin</span>,\n",
       " <span class=\"song\">Dave's Holiday</span>,\n",
       " <span class=\"release\">Tango</span>,\n",
       " <span class=\"artist\">Wilco</span>,\n",
       " <span class=\"song\">Everyone Hides</span>,\n",
       " <span class=\"release\">Ode to Joy</span>,\n",
       " <span class=\"artist\">Joy Williams</span>,\n",
       " <span class=\"song\">Front Porch</span>,\n",
       " <span class=\"release\">Front Porch</span>,\n",
       " <span class=\"artist\">Charley Crockett</span>,\n",
       " <span class=\"song\">Welcome to Hard Times</span>,\n",
       " <span class=\"release\">Welcome to Hard Times</span>,\n",
       " <span class=\"artist\">Marc Cohn</span>,\n",
       " <span class=\"song\">Listening to Levon</span>,\n",
       " <span class=\"release\">Join The Parade</span>,\n",
       " <span class=\"artist\">Doug Seegers</span>,\n",
       " <span class=\"song\">Angie's Song</span>,\n",
       " <span class=\"release\">Going down to the River</span>,\n",
       " <span class=\"artist\">Khruangbin</span>,\n",
       " <span class=\"song\">Time ( You and I)</span>,\n",
       " <span class=\"release\">Mordechai</span>,\n",
       " <span class=\"artist\">Kevin Gordon</span>,\n",
       " <span class=\"song\">All in the Mystery</span>,\n",
       " <span class=\"release\">Long Time Gone</span>,\n",
       " <span class=\"artist\">Waxahatchee</span>,\n",
       " <span class=\"song\">Can't Do Much</span>,\n",
       " <span class=\"release\">Saint Cloud</span>,\n",
       " <span class=\"artist\">Sondre Lerche</span>,\n",
       " <span class=\"song\">I Can't See Myself Without You</span>,\n",
       " <span class=\"release\">Patience</span>,\n",
       " <span class=\"artist\">Jackson Browne</span>,\n",
       " <span class=\"song\">These Days</span>,\n",
       " <span class=\"release\">For Everyman</span>,\n",
       " <span class=\"artist\">Special Consensus</span>,\n",
       " <span class=\"song\">Lakeshore Drive</span>,\n",
       " <span class=\"release\">Chicago Barn Dance</span>,\n",
       " <span class=\"artist\">Jack Klatt</span>,\n",
       " <span class=\"song\">Ramblin Kind</span>,\n",
       " <span class=\"release\">It Ain't the Same</span>,\n",
       " <span class=\"artist\">Patty Griffin</span>,\n",
       " <span class=\"song\">Rain</span>,\n",
       " <span class=\"release\">1000 Kisses</span>,\n",
       " <span class=\"artist\">Sinead Lohan</span>,\n",
       " <span class=\"song\">Whatever It Takes</span>,\n",
       " <span class=\"release\">No Mermaid</span>,\n",
       " <span class=\"artist\">Band of Horses</span>,\n",
       " <span class=\"song\">Laredo</span>,\n",
       " <span class=\"release\">Infinite Arms</span>,\n",
       " <span class=\"artist\">The Byrds</span>,\n",
       " <span class=\"song\">Mr. Tambourine Man</span>,\n",
       " <span class=\"release\">Mr. Tambourine Man</span>,\n",
       " <span class=\"artist\">The Civil Wars</span>,\n",
       " <span class=\"song\">Barton Hollow</span>,\n",
       " <span class=\"release\">Barton Hollow</span>,\n",
       " <span class=\"artist\">Kathleen Edwards</span>,\n",
       " <span class=\"song\">Options Open</span>,\n",
       " <span class=\"release\">Total Freedom</span>,\n",
       " <span class=\"artist\">Leftover Salmon</span>,\n",
       " <span class=\"song\">River's Rising</span>,\n",
       " <span class=\"release\">Euphoria</span>,\n",
       " <span class=\"artist\">Bruce Springsteen</span>,\n",
       " <span class=\"song\">Devils &amp; Dust</span>,\n",
       " <span class=\"release\">Devils &amp; Dust</span>,\n",
       " <span class=\"artist\">John Moreland</span>,\n",
       " <span class=\"song\">East October</span>,\n",
       " <span class=\"release\">LP5</span>,\n",
       " <span class=\"artist\">Susan Tedeschi</span>,\n",
       " <span class=\"song\">True</span>,\n",
       " <span class=\"release\">Back To The River</span>,\n",
       " <span class=\"artist\">Dawes</span>,\n",
       " <span class=\"song\">Who Do You Think You're Talking To?</span>,\n",
       " <span class=\"release\">Good Luck with Whatever</span>,\n",
       " <span class=\"artist\">Rumer</span>,\n",
       " <span class=\"song\">Deep Summer in the Deep South</span>,\n",
       " <span class=\"release\">Nashville Tears</span>,\n",
       " <span class=\"artist\">The Infamous Stringdusters</span>,\n",
       " <span class=\"song\">Road To Boulder</span>,\n",
       " <span class=\"release\">Road To Boulder Ep</span>,\n",
       " <span class=\"artist\">Samantha Crain</span>,\n",
       " <span class=\"song\">Pastime</span>,\n",
       " <span class=\"release\">A Small Death</span>,\n",
       " <span class=\"artist\">L.A. Dies</span>,\n",
       " <span class=\"song\">Feels Really Small</span>,\n",
       " <span class=\"release\">Drifting Still</span>,\n",
       " <span class=\"artist\">Sam Outlaw</span>,\n",
       " <span class=\"song\">Trouble</span>,\n",
       " <span class=\"release\">Tenderheart</span>,\n",
       " <span class=\"artist\">Iron &amp; Wine</span>,\n",
       " <span class=\"song\">Last of Your Rock ‘n Roll Heroes</span>,\n",
       " <span class=\"release\">Weed Garden</span>,\n",
       " <span class=\"artist\">Los Lobos</span>,\n",
       " <span class=\"song\">Dream in Blue</span>,\n",
       " <span class=\"release\">Kiko</span>,\n",
       " <span class=\"artist\">Illiterate Light</span>,\n",
       " <span class=\"song\">Sometimes Love Takes so Long</span>,\n",
       " <span class=\"release\">Illiterate Light</span>,\n",
       " <span class=\"artist\">Bruce Cockburn</span>,\n",
       " <span class=\"song\">Wondering Where the Lions Are</span>,\n",
       " <span class=\"release\">Dancing In The Dragon's Jaw</span>,\n",
       " <span class=\"artist\">Beabadoobee</span>,\n",
       " <span class=\"song\">Care</span>,\n",
       " <span class=\"release\">Fake It Flowers</span>,\n",
       " <span class=\"artist\">Kenny Robey</span>,\n",
       " <span class=\"song\">History Lesson</span>,\n",
       " <span class=\"release\">History Lesson</span>,\n",
       " <span class=\"artist\">Michael Kiwanuka</span>,\n",
       " <span class=\"song\">Tell Me a Tale</span>,\n",
       " <span class=\"release\">Home Again</span>,\n",
       " <span class=\"artist\">Molly Tuttle</span>,\n",
       " <span class=\"song\">Messed with My Mind</span>,\n",
       " <span class=\"release\">When You're Ready</span>,\n",
       " <span class=\"artist\">The Wood Brothers</span>,\n",
       " <span class=\"song\">Luckiest Man</span>,\n",
       " <span class=\"release\">Ways Not To Lose</span>,\n",
       " <span class=\"artist\">Ray Wylie Hubbard</span>,\n",
       " <span class=\"song\">Bad Trick</span>,\n",
       " <span class=\"release\">Co-Starring</span>,\n",
       " <span class=\"artist\">The Lone Bellow</span>,\n",
       " <span class=\"song\">Good Times</span>,\n",
       " <span class=\"release\">Half Moon Light</span>,\n",
       " <span class=\"artist\">Van Morrison</span>,\n",
       " <span class=\"song\">Crazy Love</span>,\n",
       " <span class=\"release\">Moondance</span>,\n",
       " <span class=\"artist\">Casey Van Beek &amp; the Tulsa Groove</span>,\n",
       " <span class=\"song\">Thinking About You</span>,\n",
       " <span class=\"release\">Heaven Forever</span>,\n",
       " <span class=\"artist\">Bob Dylan</span>,\n",
       " <span class=\"song\">False Prophet</span>,\n",
       " <span class=\"release\">Rough &amp; Rowdy Ways</span>]"
      ]
     },
     "execution_count": 16,
     "metadata": {},
     "output_type": "execute_result"
    }
   ],
   "source": [
    "spanlist = wnrn.find_all(\"span\")\n",
    "spanlist"
   ]
  },
  {
   "cell_type": "markdown",
   "metadata": {},
   "source": [
    "Notice that the HTML source code distinguishes between the three types of datapoint with different `class` values. To limit this list to just the artists, we can specify the `\"artist\"` class as a second argument of `.find_all()`:"
   ]
  },
  {
   "cell_type": "code",
   "execution_count": 17,
   "metadata": {
    "execution": {
     "iopub.execute_input": "2020-08-04T19:25:20.420641Z",
     "iopub.status.busy": "2020-08-04T19:25:20.414209Z",
     "iopub.status.idle": "2020-08-04T19:25:20.433901Z",
     "shell.execute_reply": "2020-08-04T19:25:20.434220Z"
    }
   },
   "outputs": [
    {
     "data": {
      "text/plain": [
       "[<span class=\"artist\">Greyhounds</span>,\n",
       " <span class=\"artist\">Soccer Mommy</span>,\n",
       " <span class=\"artist\">The Head &amp; the Heart</span>,\n",
       " <span class=\"artist\">Stray Fossa</span>,\n",
       " <span class=\"artist\">Margo Price</span>,\n",
       " <span class=\"artist\">Sturgill Simpson</span>,\n",
       " <span class=\"artist\">Southern Culture on the Skids</span>,\n",
       " <span class=\"artist\">Jason Mraz</span>,\n",
       " <span class=\"artist\">This Is the Kit</span>,\n",
       " <span class=\"artist\">Sarah Jarosz</span>,\n",
       " <span class=\"artist\">Jack Johnson</span>,\n",
       " <span class=\"artist\">Devon Gilfillian</span>,\n",
       " <span class=\"artist\">Kings of Leon</span>,\n",
       " <span class=\"artist\">Dan Croll</span>,\n",
       " <span class=\"artist\">Leif Vollebekk f/ Angie McMahon</span>,\n",
       " <span class=\"artist\">Greg Laswell</span>,\n",
       " <span class=\"artist\">S.G. Goodman</span>,\n",
       " <span class=\"artist\">Eilen Jewell</span>,\n",
       " <span class=\"artist\">Creedence Clearwater Revival</span>,\n",
       " <span class=\"artist\">Rayland Baxter</span>,\n",
       " <span class=\"artist\">Grace Potter &amp; the Nocturnals</span>,\n",
       " <span class=\"artist\">The Ramones</span>,\n",
       " <span class=\"artist\">David Wax Museum</span>,\n",
       " <span class=\"artist\">Katie Pruitt</span>,\n",
       " <span class=\"artist\">Curtis Harding</span>,\n",
       " <span class=\"artist\">City and Colour</span>,\n",
       " <span class=\"artist\">Chuck Prophet</span>,\n",
       " <span class=\"artist\">Lyle Lovett</span>,\n",
       " <span class=\"artist\">Lake Street Dive</span>,\n",
       " <span class=\"artist\">Old 97's</span>,\n",
       " <span class=\"artist\">EOB</span>,\n",
       " <span class=\"artist\">Suzanne Vega and DNA</span>,\n",
       " <span class=\"artist\">Real Estate</span>,\n",
       " <span class=\"artist\">The Rolling Stones</span>,\n",
       " <span class=\"artist\">Mark Knopfler</span>,\n",
       " <span class=\"artist\">Milky Chance</span>,\n",
       " <span class=\"artist\">Squeeze</span>,\n",
       " <span class=\"artist\">Sylvan Esso</span>,\n",
       " <span class=\"artist\">Lianne La Havas</span>,\n",
       " <span class=\"artist\">Talking Heads</span>,\n",
       " <span class=\"artist\">Givers</span>,\n",
       " <span class=\"artist\">Vetiver</span>,\n",
       " <span class=\"artist\">Dave Matthews Band</span>,\n",
       " <span class=\"artist\">Strong Water</span>,\n",
       " <span class=\"artist\">Nathaniel Rateliff</span>,\n",
       " <span class=\"artist\">Sea Wolf</span>,\n",
       " <span class=\"artist\">Citizen Cope</span>,\n",
       " <span class=\"artist\">Early James</span>,\n",
       " <span class=\"artist\">Best Coast</span>,\n",
       " <span class=\"artist\">Haim</span>,\n",
       " <span class=\"artist\">Maceo Parker</span>,\n",
       " <span class=\"artist\">Nick Lowe</span>,\n",
       " <span class=\"artist\">Amos Lee</span>,\n",
       " <span class=\"artist\">The Legendary Shack Shakers</span>,\n",
       " <span class=\"artist\">Sonny Landreth</span>,\n",
       " <span class=\"artist\">Fleet Foxes</span>,\n",
       " <span class=\"artist\">Bright Eyes</span>,\n",
       " <span class=\"artist\">Blondie</span>,\n",
       " <span class=\"artist\">The Jayhawks</span>,\n",
       " <span class=\"artist\">Rufus Wainwright</span>,\n",
       " <span class=\"artist\">The Decemberists</span>,\n",
       " <span class=\"artist\">Bonny Light Horseman</span>,\n",
       " <span class=\"artist\">Local Natives</span>,\n",
       " <span class=\"artist\">Bonnie Raitt w/ John Prine</span>,\n",
       " <span class=\"artist\">John Craigie</span>,\n",
       " <span class=\"artist\">Echo &amp; the Bunnymen</span>,\n",
       " <span class=\"artist\">The Pretenders</span>,\n",
       " <span class=\"artist\">Caroline Rose</span>,\n",
       " <span class=\"artist\">The Revivalists</span>,\n",
       " <span class=\"artist\">Dinner Party</span>,\n",
       " <span class=\"artist\">Courtney Marie Andrews</span>,\n",
       " <span class=\"artist\">Oasis</span>,\n",
       " <span class=\"artist\">Brent Cobb</span>,\n",
       " <span class=\"artist\">The Avett Brothers</span>,\n",
       " <span class=\"artist\">Toad The Wet Sprocket</span>,\n",
       " <span class=\"artist\">Leisure</span>,\n",
       " <span class=\"artist\">Ray LaMontagne</span>,\n",
       " <span class=\"artist\">Margo Price</span>,\n",
       " <span class=\"artist\">James Vincent McMorrow</span>,\n",
       " <span class=\"artist\">Loudon Wainwright III</span>,\n",
       " <span class=\"artist\">Seth Walker</span>,\n",
       " <span class=\"artist\">Crooked Still</span>,\n",
       " <span class=\"artist\">Neil Young</span>,\n",
       " <span class=\"artist\">Ian Noe</span>,\n",
       " <span class=\"artist\">Corey Harris</span>,\n",
       " <span class=\"artist\">Danny Barnes</span>,\n",
       " <span class=\"artist\">My Morning Jacket</span>,\n",
       " <span class=\"artist\">Son Volt</span>,\n",
       " <span class=\"artist\">Patty Larkin</span>,\n",
       " <span class=\"artist\">Wilco</span>,\n",
       " <span class=\"artist\">Joy Williams</span>,\n",
       " <span class=\"artist\">Charley Crockett</span>,\n",
       " <span class=\"artist\">Marc Cohn</span>,\n",
       " <span class=\"artist\">Doug Seegers</span>,\n",
       " <span class=\"artist\">Khruangbin</span>,\n",
       " <span class=\"artist\">Kevin Gordon</span>,\n",
       " <span class=\"artist\">Waxahatchee</span>,\n",
       " <span class=\"artist\">Sondre Lerche</span>,\n",
       " <span class=\"artist\">Jackson Browne</span>,\n",
       " <span class=\"artist\">Special Consensus</span>,\n",
       " <span class=\"artist\">Jack Klatt</span>,\n",
       " <span class=\"artist\">Patty Griffin</span>,\n",
       " <span class=\"artist\">Sinead Lohan</span>,\n",
       " <span class=\"artist\">Band of Horses</span>,\n",
       " <span class=\"artist\">The Byrds</span>,\n",
       " <span class=\"artist\">The Civil Wars</span>,\n",
       " <span class=\"artist\">Kathleen Edwards</span>,\n",
       " <span class=\"artist\">Leftover Salmon</span>,\n",
       " <span class=\"artist\">Bruce Springsteen</span>,\n",
       " <span class=\"artist\">John Moreland</span>,\n",
       " <span class=\"artist\">Susan Tedeschi</span>,\n",
       " <span class=\"artist\">Dawes</span>,\n",
       " <span class=\"artist\">Rumer</span>,\n",
       " <span class=\"artist\">The Infamous Stringdusters</span>,\n",
       " <span class=\"artist\">Samantha Crain</span>,\n",
       " <span class=\"artist\">L.A. Dies</span>,\n",
       " <span class=\"artist\">Sam Outlaw</span>,\n",
       " <span class=\"artist\">Iron &amp; Wine</span>,\n",
       " <span class=\"artist\">Los Lobos</span>,\n",
       " <span class=\"artist\">Illiterate Light</span>,\n",
       " <span class=\"artist\">Bruce Cockburn</span>,\n",
       " <span class=\"artist\">Beabadoobee</span>,\n",
       " <span class=\"artist\">Kenny Robey</span>,\n",
       " <span class=\"artist\">Michael Kiwanuka</span>,\n",
       " <span class=\"artist\">Molly Tuttle</span>,\n",
       " <span class=\"artist\">The Wood Brothers</span>,\n",
       " <span class=\"artist\">Ray Wylie Hubbard</span>,\n",
       " <span class=\"artist\">The Lone Bellow</span>,\n",
       " <span class=\"artist\">Van Morrison</span>,\n",
       " <span class=\"artist\">Casey Van Beek &amp; the Tulsa Groove</span>,\n",
       " <span class=\"artist\">Bob Dylan</span>]"
      ]
     },
     "execution_count": 17,
     "metadata": {},
     "output_type": "execute_result"
    }
   ],
   "source": [
    "artistlist = wnrn.find_all(\"span\", \"artist\")\n",
    "artistlist"
   ]
  },
  {
   "cell_type": "markdown",
   "metadata": {},
   "source": [
    "Likewise we can create lists of the songs:"
   ]
  },
  {
   "cell_type": "code",
   "execution_count": 18,
   "metadata": {
    "execution": {
     "iopub.execute_input": "2020-08-04T19:25:20.452808Z",
     "iopub.status.busy": "2020-08-04T19:25:20.452435Z",
     "iopub.status.idle": "2020-08-04T19:25:20.460952Z",
     "shell.execute_reply": "2020-08-04T19:25:20.460564Z"
    }
   },
   "outputs": [
    {
     "data": {
      "text/plain": [
       "[<span class=\"song\">Tune In</span>,\n",
       " <span class=\"song\">Circle the Drain</span>,\n",
       " <span class=\"song\">Sounds Like Hallelujah</span>,\n",
       " <span class=\"song\">For What Was</span>,\n",
       " <span class=\"song\">Letting Me Down</span>,\n",
       " <span class=\"song\">Turtles All the Way Down</span>,\n",
       " <span class=\"song\">Camel Walk</span>,\n",
       " <span class=\"song\">I'm Yours</span>,\n",
       " <span class=\"song\">This Is What You Did</span>,\n",
       " <span class=\"song\">Johnny</span>,\n",
       " <span class=\"song\">Flake</span>,\n",
       " <span class=\"song\">The Good Life</span>,\n",
       " <span class=\"song\">The Bucket</span>,\n",
       " <span class=\"song\">So Dark</span>,\n",
       " <span class=\"song\">Apalachee Plain</span>,\n",
       " <span class=\"song\">Comes and Goes (In Waves)</span>,\n",
       " <span class=\"song\">Old Time Feeling</span>,\n",
       " <span class=\"song\">Green River</span>,\n",
       " <span class=\"song\">Green River</span>,\n",
       " <span class=\"song\">Casanova</span>,\n",
       " <span class=\"song\">Tiny Light</span>,\n",
       " <span class=\"song\">Teenage Lobotomy</span>,\n",
       " <span class=\"song\">The Persimmon Tree</span>,\n",
       " <span class=\"song\">Expectations</span>,\n",
       " <span class=\"song\">On and On</span>,\n",
       " <span class=\"song\">Fragile Bird</span>,\n",
       " <span class=\"song\">Best Shirt On</span>,\n",
       " <span class=\"song\">You Can't Resist It</span>,\n",
       " <span class=\"song\">Call Off Your Dogs</span>,\n",
       " <span class=\"song\">Turn Off the TV</span>,\n",
       " <span class=\"song\">Shangri-La</span>,\n",
       " <span class=\"song\">Tom's Diner</span>,\n",
       " <span class=\"song\">The Main Thing</span>,\n",
       " <span class=\"song\">Living in a Ghost Town</span>,\n",
       " <span class=\"song\">What It Is</span>,\n",
       " <span class=\"song\">Stolen Dance</span>,\n",
       " <span class=\"song\">Black Coffee in Bed</span>,\n",
       " <span class=\"song\">Ferris Wheel</span>,\n",
       " <span class=\"song\">Can't Fight</span>,\n",
       " <span class=\"song\">Take Me to the River</span>,\n",
       " <span class=\"song\">Up Up Up</span>,\n",
       " <span class=\"song\">Swaying</span>,\n",
       " <span class=\"song\">Ants Marching</span>,\n",
       " <span class=\"song\">If I Was</span>,\n",
       " <span class=\"song\">Time Stands</span>,\n",
       " <span class=\"song\">Forever Nevermore</span>,\n",
       " <span class=\"song\">Brother Lee</span>,\n",
       " <span class=\"song\">Blue Pill Blues</span>,\n",
       " <span class=\"song\">The Only Place</span>,\n",
       " <span class=\"song\">The Wire</span>,\n",
       " <span class=\"song\">Cross the Track</span>,\n",
       " <span class=\"song\">Lay It On Me Baby</span>,\n",
       " <span class=\"song\">Windows Are Rolled Down</span>,\n",
       " <span class=\"song\">CB Song</span>,\n",
       " <span class=\"song\">Blacktop Run</span>,\n",
       " <span class=\"song\">Lorelai</span>,\n",
       " <span class=\"song\">Mariana Trench</span>,\n",
       " <span class=\"song\">The Tide is High</span>,\n",
       " <span class=\"song\">This Forgotten Town</span>,\n",
       " <span class=\"song\">Damsel in Distress</span>,\n",
       " <span class=\"song\">Rise To Me</span>,\n",
       " <span class=\"song\">Deep in Love</span>,\n",
       " <span class=\"song\">When am I Gonna Lose You</span>,\n",
       " <span class=\"song\">Angel from Montgomery</span>,\n",
       " <span class=\"song\">Don't Ask</span>,\n",
       " <span class=\"song\">The Killing Moon</span>,\n",
       " <span class=\"song\">Didn't Want to Be This Lonely</span>,\n",
       " <span class=\"song\">Feel the Way I Want</span>,\n",
       " <span class=\"song\">Oh No</span>,\n",
       " <span class=\"song\">Freeze Tag</span>,\n",
       " <span class=\"song\">It Must Be Someone Else's Fault</span>,\n",
       " <span class=\"song\">Wonderwall</span>,\n",
       " <span class=\"song\">Ain't a Road Too Long</span>,\n",
       " <span class=\"song\">February Seven</span>,\n",
       " <span class=\"song\">All I Want</span>,\n",
       " <span class=\"song\">Slipping Away</span>,\n",
       " <span class=\"song\">For the Summer</span>,\n",
       " <span class=\"song\">Letting Me Down</span>,\n",
       " <span class=\"song\">Headlights</span>,\n",
       " <span class=\"song\">Daughter</span>,\n",
       " <span class=\"song\">All I Need to Know</span>,\n",
       " <span class=\"song\">Did You Sleep Well?</span>,\n",
       " <span class=\"song\">Try</span>,\n",
       " <span class=\"song\">Irene (Ravin' Bomb)</span>,\n",
       " <span class=\"song\">Santoro</span>,\n",
       " <span class=\"song\">Juke</span>,\n",
       " <span class=\"song\">Feel You</span>,\n",
       " <span class=\"song\">Windfall</span>,\n",
       " <span class=\"song\">Dave's Holiday</span>,\n",
       " <span class=\"song\">Everyone Hides</span>,\n",
       " <span class=\"song\">Front Porch</span>,\n",
       " <span class=\"song\">Welcome to Hard Times</span>,\n",
       " <span class=\"song\">Listening to Levon</span>,\n",
       " <span class=\"song\">Angie's Song</span>,\n",
       " <span class=\"song\">Time ( You and I)</span>,\n",
       " <span class=\"song\">All in the Mystery</span>,\n",
       " <span class=\"song\">Can't Do Much</span>,\n",
       " <span class=\"song\">I Can't See Myself Without You</span>,\n",
       " <span class=\"song\">These Days</span>,\n",
       " <span class=\"song\">Lakeshore Drive</span>,\n",
       " <span class=\"song\">Ramblin Kind</span>,\n",
       " <span class=\"song\">Rain</span>,\n",
       " <span class=\"song\">Whatever It Takes</span>,\n",
       " <span class=\"song\">Laredo</span>,\n",
       " <span class=\"song\">Mr. Tambourine Man</span>,\n",
       " <span class=\"song\">Barton Hollow</span>,\n",
       " <span class=\"song\">Options Open</span>,\n",
       " <span class=\"song\">River's Rising</span>,\n",
       " <span class=\"song\">Devils &amp; Dust</span>,\n",
       " <span class=\"song\">East October</span>,\n",
       " <span class=\"song\">True</span>,\n",
       " <span class=\"song\">Who Do You Think You're Talking To?</span>,\n",
       " <span class=\"song\">Deep Summer in the Deep South</span>,\n",
       " <span class=\"song\">Road To Boulder</span>,\n",
       " <span class=\"song\">Pastime</span>,\n",
       " <span class=\"song\">Feels Really Small</span>,\n",
       " <span class=\"song\">Trouble</span>,\n",
       " <span class=\"song\">Last of Your Rock ‘n Roll Heroes</span>,\n",
       " <span class=\"song\">Dream in Blue</span>,\n",
       " <span class=\"song\">Sometimes Love Takes so Long</span>,\n",
       " <span class=\"song\">Wondering Where the Lions Are</span>,\n",
       " <span class=\"song\">Care</span>,\n",
       " <span class=\"song\">History Lesson</span>,\n",
       " <span class=\"song\">Tell Me a Tale</span>,\n",
       " <span class=\"song\">Messed with My Mind</span>,\n",
       " <span class=\"song\">Luckiest Man</span>,\n",
       " <span class=\"song\">Bad Trick</span>,\n",
       " <span class=\"song\">Good Times</span>,\n",
       " <span class=\"song\">Crazy Love</span>,\n",
       " <span class=\"song\">Thinking About You</span>,\n",
       " <span class=\"song\">False Prophet</span>]"
      ]
     },
     "execution_count": 18,
     "metadata": {},
     "output_type": "execute_result"
    }
   ],
   "source": [
    "songlist = wnrn.find_all(\"span\", \"song\")\n",
    "songlist"
   ]
  },
  {
   "cell_type": "markdown",
   "metadata": {},
   "source": [
    "And a list for the albums:"
   ]
  },
  {
   "cell_type": "code",
   "execution_count": 19,
   "metadata": {
    "execution": {
     "iopub.execute_input": "2020-08-04T19:25:20.474605Z",
     "iopub.status.busy": "2020-08-04T19:25:20.468307Z",
     "iopub.status.idle": "2020-08-04T19:25:20.488086Z",
     "shell.execute_reply": "2020-08-04T19:25:20.487693Z"
    }
   },
   "outputs": [
    {
     "data": {
      "text/plain": [
       "[<span class=\"release\">Primates</span>,\n",
       " <span class=\"release\">Color Theory</span>,\n",
       " <span class=\"release\">The Head &amp; the Heart</span>,\n",
       " <span class=\"release\">(Single)</span>,\n",
       " <span class=\"release\">That's How Rumors Get Started</span>,\n",
       " <span class=\"release\">Metamodern Sounds In Country Music</span>,\n",
       " <span class=\"release\">Dirt Track Date</span>,\n",
       " <span class=\"release\">We Sing. We Dance. We Steal Things.</span>,\n",
       " <span class=\"release\">Off Off On</span>,\n",
       " <span class=\"release\">World on the Ground</span>,\n",
       " <span class=\"release\">Brushfire Fairytales</span>,\n",
       " <span class=\"release\">Black Hole Rainbow</span>,\n",
       " <span class=\"release\">Aha Shake Heartbreak</span>,\n",
       " <span class=\"release\">Grand Plan</span>,\n",
       " <span class=\"release\">New Ways</span>,\n",
       " <span class=\"release\">I Was Going To Be An Astronaut</span>,\n",
       " <span class=\"release\">Old Time Feeling</span>,\n",
       " <span class=\"release\">(Single)</span>,\n",
       " <span class=\"release\">Woodstock - Back to the Garden</span>,\n",
       " <span class=\"release\">Wide Awake</span>,\n",
       " <span class=\"release\">Grace Potter &amp; The Nocturnals</span>,\n",
       " <span class=\"release\">Rocket To Russia</span>,\n",
       " <span class=\"release\">Carpenter Bird 10th Anniversary</span>,\n",
       " <span class=\"release\">Expectations</span>,\n",
       " <span class=\"release\">Face Your Fear</span>,\n",
       " <span class=\"release\">Little Hell</span>,\n",
       " <span class=\"release\">The Land That Time Forgot</span>,\n",
       " <span class=\"release\">Live in Texas</span>,\n",
       " <span class=\"release\">Side Pony</span>,\n",
       " <span class=\"release\">Twelfth</span>,\n",
       " <span class=\"release\">Earth</span>,\n",
       " <span class=\"release\">Retrospective</span>,\n",
       " <span class=\"release\">The Main Thing</span>,\n",
       " <span class=\"release\">(Single)</span>,\n",
       " <span class=\"release\">Sailing to Philadelphia</span>,\n",
       " <span class=\"release\">Sadnecessary</span>,\n",
       " <span class=\"release\">Sweets from a Stranger</span>,\n",
       " <span class=\"release\">Free Love</span>,\n",
       " <span class=\"release\">Lianne La Havas</span>,\n",
       " <span class=\"release\">More Songs About Buildings and Foo</span>,\n",
       " <span class=\"release\">In Light</span>,\n",
       " <span class=\"release\">Up On High</span>,\n",
       " <span class=\"release\">Under the Table &amp; Dreaming</span>,\n",
       " <span class=\"release\">Bearfoot</span>,\n",
       " <span class=\"release\">And It's Still Alright</span>,\n",
       " <span class=\"release\">Through a Dark Wood</span>,\n",
       " <span class=\"release\">Every Waking Moment</span>,\n",
       " <span class=\"release\">Singing For My Supper</span>,\n",
       " <span class=\"release\">The Only Place</span>,\n",
       " <span class=\"release\">Days Are Gone</span>,\n",
       " <span class=\"release\">Soul Food: Cooking with Maceo</span>,\n",
       " <span class=\"release\">Lay It on Me</span>,\n",
       " <span class=\"release\">Mission Bell</span>,\n",
       " <span class=\"release\">Cockadoodle Don't</span>,\n",
       " <span class=\"release\">Blacktop Run</span>,\n",
       " <span class=\"release\">Helplessness Blues</span>,\n",
       " <span class=\"release\">Down in the Weeds Where the World Once Was</span>,\n",
       " <span class=\"release\">Autoamerican</span>,\n",
       " <span class=\"release\">XOXO</span>,\n",
       " <span class=\"release\">Unfollow the Rules</span>,\n",
       " <span class=\"release\">The King Is Dead</span>,\n",
       " <span class=\"release\">Bonny Light Horseman</span>,\n",
       " <span class=\"release\">Violet Street</span>,\n",
       " <span class=\"release\">Road Tested</span>,\n",
       " <span class=\"release\">Asterisk the Universe</span>,\n",
       " <span class=\"release\">Ocean Rain</span>,\n",
       " <span class=\"release\">Hate for Sale</span>,\n",
       " <span class=\"release\">Superstar</span>,\n",
       " <span class=\"release\">Take Good Care</span>,\n",
       " <span class=\"release\">Dinner Party</span>,\n",
       " <span class=\"release\">Old Flowers</span>,\n",
       " <span class=\"release\">(What's the Story) Morning Glory?</span>,\n",
       " <span class=\"release\">Providence Canyon</span>,\n",
       " <span class=\"release\">The Carpenter</span>,\n",
       " <span class=\"release\">Fear</span>,\n",
       " <span class=\"release\">Side A</span>,\n",
       " <span class=\"release\">God Willin' &amp; the Creek Don't Rise</span>,\n",
       " <span class=\"release\">That's How Rumors Get Started</span>,\n",
       " <span class=\"release\">(Single)</span>,\n",
       " <span class=\"release\">Strange Weirdos</span>,\n",
       " <span class=\"release\">Are You Open?</span>,\n",
       " <span class=\"release\">Still Crooked</span>,\n",
       " <span class=\"release\">Homegrown</span>,\n",
       " <span class=\"release\">Between the Country</span>,\n",
       " <span class=\"release\">Down Home Sophisticate</span>,\n",
       " <span class=\"release\">Man on Fire</span>,\n",
       " <span class=\"release\">The Waterfall II</span>,\n",
       " <span class=\"release\">Trace</span>,\n",
       " <span class=\"release\">Tango</span>,\n",
       " <span class=\"release\">Ode to Joy</span>,\n",
       " <span class=\"release\">Front Porch</span>,\n",
       " <span class=\"release\">Welcome to Hard Times</span>,\n",
       " <span class=\"release\">Join The Parade</span>,\n",
       " <span class=\"release\">Going down to the River</span>,\n",
       " <span class=\"release\">Mordechai</span>,\n",
       " <span class=\"release\">Long Time Gone</span>,\n",
       " <span class=\"release\">Saint Cloud</span>,\n",
       " <span class=\"release\">Patience</span>,\n",
       " <span class=\"release\">For Everyman</span>,\n",
       " <span class=\"release\">Chicago Barn Dance</span>,\n",
       " <span class=\"release\">It Ain't the Same</span>,\n",
       " <span class=\"release\">1000 Kisses</span>,\n",
       " <span class=\"release\">No Mermaid</span>,\n",
       " <span class=\"release\">Infinite Arms</span>,\n",
       " <span class=\"release\">Mr. Tambourine Man</span>,\n",
       " <span class=\"release\">Barton Hollow</span>,\n",
       " <span class=\"release\">Total Freedom</span>,\n",
       " <span class=\"release\">Euphoria</span>,\n",
       " <span class=\"release\">Devils &amp; Dust</span>,\n",
       " <span class=\"release\">LP5</span>,\n",
       " <span class=\"release\">Back To The River</span>,\n",
       " <span class=\"release\">Good Luck with Whatever</span>,\n",
       " <span class=\"release\">Nashville Tears</span>,\n",
       " <span class=\"release\">Road To Boulder Ep</span>,\n",
       " <span class=\"release\">A Small Death</span>,\n",
       " <span class=\"release\">Drifting Still</span>,\n",
       " <span class=\"release\">Tenderheart</span>,\n",
       " <span class=\"release\">Weed Garden</span>,\n",
       " <span class=\"release\">Kiko</span>,\n",
       " <span class=\"release\">Illiterate Light</span>,\n",
       " <span class=\"release\">Dancing In The Dragon's Jaw</span>,\n",
       " <span class=\"release\">Fake It Flowers</span>,\n",
       " <span class=\"release\">History Lesson</span>,\n",
       " <span class=\"release\">Home Again</span>,\n",
       " <span class=\"release\">When You're Ready</span>,\n",
       " <span class=\"release\">Ways Not To Lose</span>,\n",
       " <span class=\"release\">Co-Starring</span>,\n",
       " <span class=\"release\">Half Moon Light</span>,\n",
       " <span class=\"release\">Moondance</span>,\n",
       " <span class=\"release\">Heaven Forever</span>,\n",
       " <span class=\"release\">Rough &amp; Rowdy Ways</span>]"
      ]
     },
     "execution_count": 19,
     "metadata": {},
     "output_type": "execute_result"
    }
   ],
   "source": [
    "albumlist = wnrn.find_all(\"span\", \"release\")\n",
    "albumlist"
   ]
  },
  {
   "cell_type": "markdown",
   "metadata": {},
   "source": [
    "Finally, we want to also extract the times each song was played. I look at the HTML code and find an example of the play time. These times are stored in the `<td>` tag with `class=\"spin-time\"`. I create a list of these times:"
   ]
  },
  {
   "cell_type": "code",
   "execution_count": 20,
   "metadata": {
    "execution": {
     "iopub.execute_input": "2020-08-04T19:25:20.514055Z",
     "iopub.status.busy": "2020-08-04T19:25:20.513521Z",
     "iopub.status.idle": "2020-08-04T19:25:20.516206Z",
     "shell.execute_reply": "2020-08-04T19:25:20.515820Z"
    }
   },
   "outputs": [
    {
     "data": {
      "text/plain": [
       "[<td class=\"spin-time\"><a href=\"/WNRN/pl/11377835/WNRN?sp=234754676\">3:22 PM</a></td>,\n",
       " <td class=\"spin-time\"><a href=\"/WNRN/pl/11377835/WNRN?sp=234754184\">3:16 PM</a></td>,\n",
       " <td class=\"spin-time\"><a href=\"/WNRN/pl/11377835/WNRN?sp=234753938\">3:13 PM</a></td>,\n",
       " <td class=\"spin-time\"><a href=\"/WNRN/pl/11377835/WNRN?sp=234753623\">3:09 PM</a></td>,\n",
       " <td class=\"spin-time\"><a href=\"/WNRN/pl/11377835/WNRN?sp=234753125\">3:04 PM</a></td>,\n",
       " <td class=\"spin-time\"><a href=\"/WNRN/pl/11377835/WNRN?sp=234752915\">3:01 PM</a></td>,\n",
       " <td class=\"spin-time\"><a href=\"/WNRN/pl/11377835/WNRN?sp=234752465\">2:58 PM</a></td>,\n",
       " <td class=\"spin-time\"><a href=\"/WNRN/pl/11377835/WNRN?sp=234752096\">2:54 PM</a></td>,\n",
       " <td class=\"spin-time\"><a href=\"/WNRN/pl/11377835/WNRN?sp=234751838\">2:52 PM</a></td>,\n",
       " <td class=\"spin-time\"><a href=\"/WNRN/pl/11377835/WNRN?sp=234751346\">2:46 PM</a></td>,\n",
       " <td class=\"spin-time\"><a href=\"/WNRN/pl/11377835/WNRN?sp=234750401\">2:37 PM</a></td>,\n",
       " <td class=\"spin-time\"><a href=\"/WNRN/pl/11377835/WNRN?sp=234749837\">2:31 PM</a></td>,\n",
       " <td class=\"spin-time\"><a href=\"/WNRN/pl/11377835/WNRN?sp=234749534\">2:27 PM</a></td>,\n",
       " <td class=\"spin-time\"><a href=\"/WNRN/pl/11377835/WNRN?sp=234749306\">2:24 PM</a></td>,\n",
       " <td class=\"spin-time\"><a href=\"/WNRN/pl/11377835/WNRN?sp=234748937\">2:19 PM</a></td>,\n",
       " <td class=\"spin-time\"><a href=\"/WNRN/pl/11377835/WNRN?sp=234748616\">2:15 PM</a></td>,\n",
       " <td class=\"spin-time\"><a href=\"/WNRN/pl/11377835/WNRN?sp=234748250\">2:11 PM</a></td>,\n",
       " <td class=\"spin-time\"><a href=\"/WNRN/pl/11377835/WNRN?sp=234747197\">2:07 PM</a></td>,\n",
       " <td class=\"spin-time\"><a href=\"/WNRN/pl/11377835/WNRN?sp=234746780\">2:02 PM</a></td>,\n",
       " <td class=\"spin-time\"><a href=\"/WNRN/pl/11377835/WNRN?sp=234746300\">1:58 PM</a></td>,\n",
       " <td class=\"spin-time\"><a href=\"/WNRN/pl/11377835/WNRN?sp=234745952\">1:53 PM</a></td>,\n",
       " <td class=\"spin-time\"><a href=\"/WNRN/pl/11377835/WNRN?sp=234745796\">1:51 PM</a></td>,\n",
       " <td class=\"spin-time\"><a href=\"/WNRN/pl/11377835/WNRN?sp=234745613\">1:49 PM</a></td>,\n",
       " <td class=\"spin-time\"><a href=\"/WNRN/pl/11377835/WNRN?sp=234745190\">1:44 PM</a></td>,\n",
       " <td class=\"spin-time\"><a href=\"/WNRN/pl/11377835/WNRN?sp=234744926\">1:40 PM</a></td>,\n",
       " <td class=\"spin-time\"><a href=\"/WNRN/pl/11377835/WNRN?sp=234744632\">1:36 PM</a></td>,\n",
       " <td class=\"spin-time\"><a href=\"/WNRN/pl/11377835/WNRN?sp=234744107\">1:31 PM</a></td>,\n",
       " <td class=\"spin-time\"><a href=\"/WNRN/pl/11377835/WNRN?sp=234743729\">1:28 PM</a></td>,\n",
       " <td class=\"spin-time\"><a href=\"/WNRN/pl/11377835/WNRN?sp=234743420\">1:24 PM</a></td>,\n",
       " <td class=\"spin-time\"><a href=\"/WNRN/pl/11377835/WNRN?sp=234743180\">1:21 PM</a></td>,\n",
       " <td class=\"spin-time\"><a href=\"/WNRN/pl/11377835/WNRN?sp=234742784\">1:16 PM</a></td>,\n",
       " <td class=\"spin-time\"><a href=\"/WNRN/pl/11377835/WNRN?sp=234742454\">1:12 PM</a></td>,\n",
       " <td class=\"spin-time\"><a href=\"/WNRN/pl/11377835/WNRN?sp=234742262\">1:10 PM</a></td>,\n",
       " <td class=\"spin-time\"><a href=\"/WNRN/pl/11377835/WNRN?sp=234741668\">1:05 PM</a></td>,\n",
       " <td class=\"spin-time\"><a href=\"/WNRN/pl/11377835/WNRN?sp=234741386\">1:01 PM</a></td>,\n",
       " <td class=\"spin-time\"><a href=\"/WNRN/pl/11377835/WNRN?sp=234740975\">12:57 PM</a></td>,\n",
       " <td class=\"spin-time\"><a href=\"/WNRN/pl/11377835/WNRN?sp=234740474\">12:51 PM</a></td>,\n",
       " <td class=\"spin-time\"><a href=\"/WNRN/pl/11377835/WNRN?sp=234740249\">12:48 PM</a></td>,\n",
       " <td class=\"spin-time\"><a href=\"/WNRN/pl/11377835/WNRN?sp=234739817\">12:44 PM</a></td>,\n",
       " <td class=\"spin-time\"><a href=\"/WNRN/pl/11377835/WNRN?sp=234739436\">12:38 PM</a></td>,\n",
       " <td class=\"spin-time\"><a href=\"/WNRN/pl/11377835/WNRN?sp=234739145\">12:35 PM</a></td>,\n",
       " <td class=\"spin-time\"><a href=\"/WNRN/pl/11377835/WNRN?sp=234738710\">12:30 PM</a></td>,\n",
       " <td class=\"spin-time\"><a href=\"/WNRN/pl/11377835/WNRN?sp=234738221\">12:25 PM</a></td>,\n",
       " <td class=\"spin-time\"><a href=\"/WNRN/pl/11377835/WNRN?sp=234737939\">12:22 PM</a></td>,\n",
       " <td class=\"spin-time\"><a href=\"/WNRN/pl/11377835/WNRN?sp=234737666\">12:18 PM</a></td>,\n",
       " <td class=\"spin-time\"><a href=\"/WNRN/pl/11377835/WNRN?sp=234737249\">12:13 PM</a></td>,\n",
       " <td class=\"spin-time\"><a href=\"/WNRN/pl/11377835/WNRN?sp=234736874\">12:09 PM</a></td>,\n",
       " <td class=\"spin-time\"><a href=\"/WNRN/pl/11377835/WNRN?sp=234736283\">12:02 PM</a></td>,\n",
       " <td class=\"spin-time\"><a href=\"/WNRN/pl/11377835/WNRN?sp=234736046\">11:59 AM</a></td>,\n",
       " <td class=\"spin-time\"><a href=\"/WNRN/pl/11377835/WNRN?sp=234735653\">11:55 AM</a></td>,\n",
       " <td class=\"spin-time\"><a href=\"/WNRN/pl/11377835/WNRN?sp=234735266\">11:50 AM</a></td>,\n",
       " <td class=\"spin-time\"><a href=\"/WNRN/pl/11377835/WNRN?sp=234734888\">11:45 AM</a></td>,\n",
       " <td class=\"spin-time\"><a href=\"/WNRN/pl/11377835/WNRN?sp=234734591\">11:41 AM</a></td>,\n",
       " <td class=\"spin-time\"><a href=\"/WNRN/pl/11377835/WNRN?sp=234734375\">11:38 AM</a></td>,\n",
       " <td class=\"spin-time\"><a href=\"/WNRN/pl/11377835/WNRN?sp=234733895\">11:33 AM</a></td>,\n",
       " <td class=\"spin-time\"><a href=\"/WNRN/pl/11377835/WNRN?sp=234733535\">11:28 AM</a></td>,\n",
       " <td class=\"spin-time\"><a href=\"/WNRN/pl/11377835/WNRN?sp=234733223\">11:25 AM</a></td>,\n",
       " <td class=\"spin-time\"><a href=\"/WNRN/pl/11377835/WNRN?sp=234732380\">11:14 AM</a></td>,\n",
       " <td class=\"spin-time\"><a href=\"/WNRN/pl/11377835/WNRN?sp=234732113\">11:11 AM</a></td>,\n",
       " <td class=\"spin-time\"><a href=\"/WNRN/pl/11377835/WNRN?sp=234731552\">11:05 AM</a></td>,\n",
       " <td class=\"spin-time\"><a href=\"/WNRN/pl/11377835/WNRN?sp=234731066\">11:00 AM</a></td>,\n",
       " <td class=\"spin-time\"><a href=\"/WNRN/pl/11377835/WNRN?sp=234729863\">10:45 AM</a></td>,\n",
       " <td class=\"spin-time\"><a href=\"/WNRN/pl/11377835/WNRN?sp=234729587\">10:41 AM</a></td>,\n",
       " <td class=\"spin-time\"><a href=\"/WNRN/pl/11377835/WNRN?sp=234729275\">10:37 AM</a></td>,\n",
       " <td class=\"spin-time\"><a href=\"/WNRN/pl/11377835/WNRN?sp=234728810\">10:32 AM</a></td>,\n",
       " <td class=\"spin-time\"><a href=\"/WNRN/pl/11377835/WNRN?sp=234728354\">10:26 AM</a></td>,\n",
       " <td class=\"spin-time\"><a href=\"/WNRN/pl/11377835/WNRN?sp=234728138\">10:23 AM</a></td>,\n",
       " <td class=\"spin-time\"><a href=\"/WNRN/pl/11377835/WNRN?sp=234727727\">10:17 AM</a></td>,\n",
       " <td class=\"spin-time\"><a href=\"/WNRN/pl/11377835/WNRN?sp=234727475\">10:14 AM</a></td>,\n",
       " <td class=\"spin-time\"><a href=\"/WNRN/pl/11377835/WNRN?sp=234727244\">10:11 AM</a></td>,\n",
       " <td class=\"spin-time\"><a href=\"/WNRN/pl/11377835/WNRN?sp=234726902\">10:07 AM</a></td>,\n",
       " <td class=\"spin-time\"><a href=\"/WNRN/pl/11377835/WNRN?sp=234726551\">10:02 AM</a></td>,\n",
       " <td class=\"spin-time\"><a href=\"/WNRN/pl/11377835/WNRN?sp=234726200\">9:59 AM</a></td>,\n",
       " <td class=\"spin-time\"><a href=\"/WNRN/pl/11377835/WNRN?sp=234725834\">9:54 AM</a></td>,\n",
       " <td class=\"spin-time\"><a href=\"/WNRN/pl/11377835/WNRN?sp=234725606\">9:51 AM</a></td>,\n",
       " <td class=\"spin-time\"><a href=\"/WNRN/pl/11377835/WNRN?sp=234725315\">9:47 AM</a></td>,\n",
       " <td class=\"spin-time\"><a href=\"/WNRN/pl/11377835/WNRN?sp=234724862\">9:42 AM</a></td>,\n",
       " <td class=\"spin-time\"><a href=\"/WNRN/pl/11377835/WNRN?sp=234724610\">9:39 AM</a></td>,\n",
       " <td class=\"spin-time\"><a href=\"/WNRN/pl/11377835/WNRN?sp=234724364\">9:35 AM</a></td>,\n",
       " <td class=\"spin-time\"><a href=\"/WNRN/pl/11377835/WNRN?sp=234724106\">9:32 AM</a></td>,\n",
       " <td class=\"spin-time\"><a href=\"/WNRN/pl/11377835/WNRN?sp=234723662\">9:26 AM</a></td>,\n",
       " <td class=\"spin-time\"><a href=\"/WNRN/pl/11377835/WNRN?sp=234723275\">9:22 AM</a></td>,\n",
       " <td class=\"spin-time\"><a href=\"/WNRN/pl/11377835/WNRN?sp=234723065\">9:19 AM</a></td>,\n",
       " <td class=\"spin-time\"><a href=\"/WNRN/pl/11377835/WNRN?sp=234722594\">9:14 AM</a></td>,\n",
       " <td class=\"spin-time\"><a href=\"/WNRN/pl/11377835/WNRN?sp=234722387\">9:11 AM</a></td>,\n",
       " <td class=\"spin-time\"><a href=\"/WNRN/pl/11377835/WNRN?sp=234722150\">9:08 AM</a></td>,\n",
       " <td class=\"spin-time\"><a href=\"/WNRN/pl/11377835/WNRN?sp=234721685\">9:02 AM</a></td>,\n",
       " <td class=\"spin-time\"><a href=\"/WNRN/pl/11377835/WNRN?sp=234721337\">8:59 AM</a></td>,\n",
       " <td class=\"spin-time\"><a href=\"/WNRN/pl/11377835/WNRN?sp=234721124\">8:56 AM</a></td>,\n",
       " <td class=\"spin-time\"><a href=\"/WNRN/pl/11377835/WNRN?sp=234720890\">8:53 AM</a></td>,\n",
       " <td class=\"spin-time\"><a href=\"/WNRN/pl/11377835/WNRN?sp=234720605\">8:50 AM</a></td>,\n",
       " <td class=\"spin-time\"><a href=\"/WNRN/pl/11377835/WNRN?sp=234720203\">8:44 AM</a></td>,\n",
       " <td class=\"spin-time\"><a href=\"/WNRN/pl/11377835/WNRN?sp=234719852\">8:40 AM</a></td>,\n",
       " <td class=\"spin-time\"><a href=\"/WNRN/pl/11377835/WNRN?sp=234719609\">8:36 AM</a></td>,\n",
       " <td class=\"spin-time\"><a href=\"/WNRN/pl/11377835/WNRN?sp=234719207\">8:31 AM</a></td>,\n",
       " <td class=\"spin-time\"><a href=\"/WNRN/pl/11377835/WNRN?sp=234718715\">8:25 AM</a></td>,\n",
       " <td class=\"spin-time\"><a href=\"/WNRN/pl/11377835/WNRN?sp=234718352\">8:22 AM</a></td>,\n",
       " <td class=\"spin-time\"><a href=\"/WNRN/pl/11377835/WNRN?sp=234717980\">8:17 AM</a></td>,\n",
       " <td class=\"spin-time\"><a href=\"/WNRN/pl/11377835/WNRN?sp=234717668\">8:12 AM</a></td>,\n",
       " <td class=\"spin-time\"><a href=\"/WNRN/pl/11377835/WNRN?sp=234717437\">8:09 AM</a></td>,\n",
       " <td class=\"spin-time\"><a href=\"/WNRN/pl/11377835/WNRN?sp=234717131\">8:04 AM</a></td>,\n",
       " <td class=\"spin-time\"><a href=\"/WNRN/pl/11377835/WNRN?sp=234716846\">8:00 AM</a></td>,\n",
       " <td class=\"spin-time\"><a href=\"/WNRN/pl/11377835/WNRN?sp=234716453\">7:56 AM</a></td>,\n",
       " <td class=\"spin-time\"><a href=\"/WNRN/pl/11377835/WNRN?sp=234716228\">7:53 AM</a></td>,\n",
       " <td class=\"spin-time\"><a href=\"/WNRN/pl/11377835/WNRN?sp=234716060\">7:51 AM</a></td>,\n",
       " <td class=\"spin-time\"><a href=\"/WNRN/pl/11377835/WNRN?sp=234715817\">7:48 AM</a></td>,\n",
       " <td class=\"spin-time\"><a href=\"/WNRN/pl/11377835/WNRN?sp=234715394\">7:42 AM</a></td>,\n",
       " <td class=\"spin-time\"><a href=\"/WNRN/pl/11377835/WNRN?sp=234715106\">7:38 AM</a></td>,\n",
       " <td class=\"spin-time\"><a href=\"/WNRN/pl/11377835/WNRN?sp=234714728\">7:33 AM</a></td>,\n",
       " <td class=\"spin-time\"><a href=\"/WNRN/pl/11377835/WNRN?sp=234714011\">7:27 AM</a></td>,\n",
       " <td class=\"spin-time\"><a href=\"/WNRN/pl/11377835/WNRN?sp=234713780\">7:24 AM</a></td>,\n",
       " <td class=\"spin-time\"><a href=\"/WNRN/pl/11377835/WNRN?sp=234713513\">7:21 AM</a></td>,\n",
       " <td class=\"spin-time\"><a href=\"/WNRN/pl/11377835/WNRN?sp=234713054\">7:15 AM</a></td>,\n",
       " <td class=\"spin-time\"><a href=\"/WNRN/pl/11377835/WNRN?sp=234712766\">7:11 AM</a></td>,\n",
       " <td class=\"spin-time\"><a href=\"/WNRN/pl/11377835/WNRN?sp=234712523\">7:08 AM</a></td>,\n",
       " <td class=\"spin-time\"><a href=\"/WNRN/pl/11377835/WNRN?sp=234712088\">7:02 AM</a></td>,\n",
       " <td class=\"spin-time\"><a href=\"/WNRN/pl/11377835/WNRN?sp=234711860\">7:00 AM</a></td>,\n",
       " <td class=\"spin-time\"><a href=\"/WNRN/pl/11377835/WNRN?sp=234711515\">6:56 AM</a></td>,\n",
       " <td class=\"spin-time\"><a href=\"/WNRN/pl/11377835/WNRN?sp=234711275\">6:53 AM</a></td>,\n",
       " <td class=\"spin-time\"><a href=\"/WNRN/pl/11377835/WNRN?sp=234711014\">6:49 AM</a></td>,\n",
       " <td class=\"spin-time\"><a href=\"/WNRN/pl/11377835/WNRN?sp=234710570\">6:44 AM</a></td>,\n",
       " <td class=\"spin-time\"><a href=\"/WNRN/pl/11377835/WNRN?sp=234710198\">6:41 AM</a></td>,\n",
       " <td class=\"spin-time\"><a href=\"/WNRN/pl/11377835/WNRN?sp=234709970\">6:37 AM</a></td>,\n",
       " <td class=\"spin-time\"><a href=\"/WNRN/pl/11377835/WNRN?sp=234709700\">6:34 AM</a></td>,\n",
       " <td class=\"spin-time\"><a href=\"/WNRN/pl/11377835/WNRN?sp=234709328\">6:29 AM</a></td>,\n",
       " <td class=\"spin-time\"><a href=\"/WNRN/pl/11377835/WNRN?sp=234709025\">6:25 AM</a></td>,\n",
       " <td class=\"spin-time\"><a href=\"/WNRN/pl/11377835/WNRN?sp=234708704\">6:21 AM</a></td>,\n",
       " <td class=\"spin-time\"><a href=\"/WNRN/pl/11377835/WNRN?sp=234708326\">6:16 AM</a></td>,\n",
       " <td class=\"spin-time\"><a href=\"/WNRN/pl/11377835/WNRN?sp=234708107\">6:13 AM</a></td>,\n",
       " <td class=\"spin-time\"><a href=\"/WNRN/pl/11377835/WNRN?sp=234707915\">6:11 AM</a></td>,\n",
       " <td class=\"spin-time\"><a href=\"/WNRN/pl/11377835/WNRN?sp=234707342\">6:03 AM</a></td>]"
      ]
     },
     "execution_count": 20,
     "metadata": {},
     "output_type": "execute_result"
    }
   ],
   "source": [
    "timelist = wnrn.find_all(\"td\", \"spin-time\")\n",
    "timelist"
   ]
  },
  {
   "cell_type": "markdown",
   "metadata": {},
   "source": [
    "Sometimes the information we need exists in a particular tag, but only when a specific attribute is present. For example, in the WNRN playlist HTML there are many `<a>` tags, but only some of those tags include a `title` attribute. To extract all of the `<a>` tags with a `title` attribute, specify `title=True` in the call to `.find_all()`:"
   ]
  },
  {
   "cell_type": "code",
   "execution_count": 21,
   "metadata": {
    "execution": {
     "iopub.execute_input": "2020-08-04T19:25:20.523860Z",
     "iopub.status.busy": "2020-08-04T19:25:20.523484Z",
     "iopub.status.idle": "2020-08-04T19:25:20.540407Z",
     "shell.execute_reply": "2020-08-04T19:25:20.540823Z"
    }
   },
   "outputs": [
    {
     "name": "stdout",
     "output_type": "stream",
     "text": [
      "[<a class=\"buy-link\" data-vendor=\"apple\" href=\"#\" target=\"_blank\" title='View \"Greyhounds - Tune In\" on Apple'><div alt='View \"Greyhounds - Tune In\" on Apple' class=\"buy-icon buy-icon-apple\"></div></a>, <a class=\"buy-link\" data-vendor=\"amazon\" href=\"#\" target=\"_blank\" title='View \"Greyhounds - Tune In\" on Amazon'><div alt='View \"Greyhounds - Tune In\" on Amazon' class=\"buy-icon buy-icon-amazon\"></div></a>, <a class=\"buy-link\" data-vendor=\"spotify\" href=\"#\" target=\"_blank\" title='View \"Greyhounds - Tune In\" on Spotify'><div alt='View \"Greyhounds - Tune In\" on Spotify' class=\"buy-icon buy-icon-spotify\"></div></a>, <a class=\"buy-link\" data-vendor=\"apple\" href=\"#\" target=\"_blank\" title='View \"Soccer Mommy - Circle the Drain\" on Apple'><div alt='View \"Soccer Mommy - Circle the Drain\" on Apple' class=\"buy-icon buy-icon-apple\"></div></a>, <a class=\"buy-link\" data-vendor=\"amazon\" href=\"#\" target=\"_blank\" title='View \"Soccer Mommy - Circle the Drain\" on Amazon'><div alt='View \"Soccer Mommy - Circle the Drain\" on Amazon' class=\"buy-icon buy-icon-amazon\"></div></a>]\n"
     ]
    }
   ],
   "source": [
    "atags_title = wnrn.find_all(\"a\", title=True)\n",
    "print(atags_title[0:5]) # just show the first 6 elements"
   ]
  },
  {
   "cell_type": "markdown",
   "metadata": {},
   "source": [
    "### Constructing a Data Frame from HTML Data\n",
    "Next we need to place these data into a clean data frame. For that, we will need to keep the valid data while dropping the HTML tags. We stored the tags with the artists, songs, albums, and times in separate lists. Every name is stored as a navigable string in the HTML tags, so to extract these names we need to loop across the elements of the list. The simplest loop for this task is called a **list comprehension**, which has the following syntax:\n",
    "\n",
    "*newlist* `= [` *expression* `for` *item* `in` *oldlist* `if` *condition* `]`\n",
    "\n",
    "In this syntax, we are creating a new list by iteratively performing operations on the elements of an existing list (*oldlist*). *item* is a token that we will use to represent one item of the existing list. *expression* is the same Python code we would use on a single element of the existing list, except we replace the name of the element with the token defined with *item*. Finally *condition* is an optional part of this code which sets a filter by which only certain elements of the old list are transformed and placed into the new list (there's an example of conditioning in a comprehension loop in the section on [spiders](#spider)).\n",
    "\n",
    "For example, to extract the navigable string from every element of `artistlist`, we can set *item* to `a`, *expression* to `a.string`, and *list* to `artistlist`:"
   ]
  },
  {
   "cell_type": "code",
   "execution_count": 22,
   "metadata": {
    "execution": {
     "iopub.execute_input": "2020-08-04T19:25:20.544728Z",
     "iopub.status.busy": "2020-08-04T19:25:20.544248Z",
     "iopub.status.idle": "2020-08-04T19:25:20.547071Z",
     "shell.execute_reply": "2020-08-04T19:25:20.546557Z"
    }
   },
   "outputs": [
    {
     "data": {
      "text/plain": [
       "['Greyhounds',\n",
       " 'Soccer Mommy',\n",
       " 'The Head & the Heart',\n",
       " 'Stray Fossa',\n",
       " 'Margo Price',\n",
       " 'Sturgill Simpson',\n",
       " 'Southern Culture on the Skids',\n",
       " 'Jason Mraz',\n",
       " 'This Is the Kit',\n",
       " 'Sarah Jarosz',\n",
       " 'Jack Johnson',\n",
       " 'Devon Gilfillian',\n",
       " 'Kings of Leon',\n",
       " 'Dan Croll',\n",
       " 'Leif Vollebekk f/ Angie McMahon',\n",
       " 'Greg Laswell',\n",
       " 'S.G. Goodman',\n",
       " 'Eilen Jewell',\n",
       " 'Creedence Clearwater Revival',\n",
       " 'Rayland Baxter',\n",
       " 'Grace Potter & the Nocturnals',\n",
       " 'The Ramones',\n",
       " 'David Wax Museum',\n",
       " 'Katie Pruitt',\n",
       " 'Curtis Harding',\n",
       " 'City and Colour',\n",
       " 'Chuck Prophet',\n",
       " 'Lyle Lovett',\n",
       " 'Lake Street Dive',\n",
       " \"Old 97's\",\n",
       " 'EOB',\n",
       " 'Suzanne Vega and DNA',\n",
       " 'Real Estate',\n",
       " 'The Rolling Stones',\n",
       " 'Mark Knopfler',\n",
       " 'Milky Chance',\n",
       " 'Squeeze',\n",
       " 'Sylvan Esso',\n",
       " 'Lianne La Havas',\n",
       " 'Talking Heads',\n",
       " 'Givers',\n",
       " 'Vetiver',\n",
       " 'Dave Matthews Band',\n",
       " 'Strong Water',\n",
       " 'Nathaniel Rateliff',\n",
       " 'Sea Wolf',\n",
       " 'Citizen Cope',\n",
       " 'Early James',\n",
       " 'Best Coast',\n",
       " 'Haim',\n",
       " 'Maceo Parker',\n",
       " 'Nick Lowe',\n",
       " 'Amos Lee',\n",
       " 'The Legendary Shack Shakers',\n",
       " 'Sonny Landreth',\n",
       " 'Fleet Foxes',\n",
       " 'Bright Eyes',\n",
       " 'Blondie',\n",
       " 'The Jayhawks',\n",
       " 'Rufus Wainwright',\n",
       " 'The Decemberists',\n",
       " 'Bonny Light Horseman',\n",
       " 'Local Natives',\n",
       " 'Bonnie Raitt w/ John Prine',\n",
       " 'John Craigie',\n",
       " 'Echo & the Bunnymen',\n",
       " 'The Pretenders',\n",
       " 'Caroline Rose',\n",
       " 'The Revivalists',\n",
       " 'Dinner Party',\n",
       " 'Courtney Marie Andrews',\n",
       " 'Oasis',\n",
       " 'Brent Cobb',\n",
       " 'The Avett Brothers',\n",
       " 'Toad The Wet Sprocket',\n",
       " 'Leisure',\n",
       " 'Ray LaMontagne',\n",
       " 'Margo Price',\n",
       " 'James Vincent McMorrow',\n",
       " 'Loudon Wainwright III',\n",
       " 'Seth Walker',\n",
       " 'Crooked Still',\n",
       " 'Neil Young',\n",
       " 'Ian Noe',\n",
       " 'Corey Harris',\n",
       " 'Danny Barnes',\n",
       " 'My Morning Jacket',\n",
       " 'Son Volt',\n",
       " 'Patty Larkin',\n",
       " 'Wilco',\n",
       " 'Joy Williams',\n",
       " 'Charley Crockett',\n",
       " 'Marc Cohn',\n",
       " 'Doug Seegers',\n",
       " 'Khruangbin',\n",
       " 'Kevin Gordon',\n",
       " 'Waxahatchee',\n",
       " 'Sondre Lerche',\n",
       " 'Jackson Browne',\n",
       " 'Special Consensus',\n",
       " 'Jack Klatt',\n",
       " 'Patty Griffin',\n",
       " 'Sinead Lohan',\n",
       " 'Band of Horses',\n",
       " 'The Byrds',\n",
       " 'The Civil Wars',\n",
       " 'Kathleen Edwards',\n",
       " 'Leftover Salmon',\n",
       " 'Bruce Springsteen',\n",
       " 'John Moreland',\n",
       " 'Susan Tedeschi',\n",
       " 'Dawes',\n",
       " 'Rumer',\n",
       " 'The Infamous Stringdusters',\n",
       " 'Samantha Crain',\n",
       " 'L.A. Dies',\n",
       " 'Sam Outlaw',\n",
       " 'Iron & Wine',\n",
       " 'Los Lobos',\n",
       " 'Illiterate Light',\n",
       " 'Bruce Cockburn',\n",
       " 'Beabadoobee',\n",
       " 'Kenny Robey',\n",
       " 'Michael Kiwanuka',\n",
       " 'Molly Tuttle',\n",
       " 'The Wood Brothers',\n",
       " 'Ray Wylie Hubbard',\n",
       " 'The Lone Bellow',\n",
       " 'Van Morrison',\n",
       " 'Casey Van Beek & the Tulsa Groove',\n",
       " 'Bob Dylan']"
      ]
     },
     "execution_count": 22,
     "metadata": {},
     "output_type": "execute_result"
    }
   ],
   "source": [
    "artists = [a.string for a in artistlist]\n",
    "artists"
   ]
  },
  {
   "cell_type": "markdown",
   "metadata": {},
   "source": [
    "Likewise, we extract the navigable strings for the songs, albums, and times:"
   ]
  },
  {
   "cell_type": "code",
   "execution_count": 23,
   "metadata": {
    "execution": {
     "iopub.execute_input": "2020-08-04T19:25:20.550760Z",
     "iopub.status.busy": "2020-08-04T19:25:20.550397Z",
     "iopub.status.idle": "2020-08-04T19:25:20.552918Z",
     "shell.execute_reply": "2020-08-04T19:25:20.552543Z"
    }
   },
   "outputs": [],
   "source": [
    "songs = [a.string for a in songlist]\n",
    "albums = [a.string for a in albumlist]\n",
    "times = [a.string for a in timelist]"
   ]
  },
  {
   "cell_type": "markdown",
   "metadata": {},
   "source": [
    "Finally, to construct a clean data frame, we create a dictionary that combines these lists and passes this dictionary to the `pd.DataFrame()` function:"
   ]
  },
  {
   "cell_type": "code",
   "execution_count": 24,
   "metadata": {
    "execution": {
     "iopub.execute_input": "2020-08-04T19:25:20.564521Z",
     "iopub.status.busy": "2020-08-04T19:25:20.561434Z",
     "iopub.status.idle": "2020-08-04T19:25:20.567601Z",
     "shell.execute_reply": "2020-08-04T19:25:20.567233Z"
    }
   },
   "outputs": [
    {
     "data": {
      "text/html": [
       "<div>\n",
       "<style scoped>\n",
       "    .dataframe tbody tr th:only-of-type {\n",
       "        vertical-align: middle;\n",
       "    }\n",
       "\n",
       "    .dataframe tbody tr th {\n",
       "        vertical-align: top;\n",
       "    }\n",
       "\n",
       "    .dataframe thead th {\n",
       "        text-align: right;\n",
       "    }\n",
       "</style>\n",
       "<table border=\"1\" class=\"dataframe\">\n",
       "  <thead>\n",
       "    <tr style=\"text-align: right;\">\n",
       "      <th></th>\n",
       "      <th>time</th>\n",
       "      <th>artist</th>\n",
       "      <th>song</th>\n",
       "      <th>album</th>\n",
       "    </tr>\n",
       "  </thead>\n",
       "  <tbody>\n",
       "    <tr>\n",
       "      <th>0</th>\n",
       "      <td>3:22 PM</td>\n",
       "      <td>Greyhounds</td>\n",
       "      <td>Tune In</td>\n",
       "      <td>Primates</td>\n",
       "    </tr>\n",
       "    <tr>\n",
       "      <th>1</th>\n",
       "      <td>3:16 PM</td>\n",
       "      <td>Soccer Mommy</td>\n",
       "      <td>Circle the Drain</td>\n",
       "      <td>Color Theory</td>\n",
       "    </tr>\n",
       "    <tr>\n",
       "      <th>2</th>\n",
       "      <td>3:13 PM</td>\n",
       "      <td>The Head &amp; the Heart</td>\n",
       "      <td>Sounds Like Hallelujah</td>\n",
       "      <td>The Head &amp; the Heart</td>\n",
       "    </tr>\n",
       "    <tr>\n",
       "      <th>3</th>\n",
       "      <td>3:09 PM</td>\n",
       "      <td>Stray Fossa</td>\n",
       "      <td>For What Was</td>\n",
       "      <td>(Single)</td>\n",
       "    </tr>\n",
       "    <tr>\n",
       "      <th>4</th>\n",
       "      <td>3:04 PM</td>\n",
       "      <td>Margo Price</td>\n",
       "      <td>Letting Me Down</td>\n",
       "      <td>That's How Rumors Get Started</td>\n",
       "    </tr>\n",
       "    <tr>\n",
       "      <th>...</th>\n",
       "      <td>...</td>\n",
       "      <td>...</td>\n",
       "      <td>...</td>\n",
       "      <td>...</td>\n",
       "    </tr>\n",
       "    <tr>\n",
       "      <th>126</th>\n",
       "      <td>6:21 AM</td>\n",
       "      <td>Ray Wylie Hubbard</td>\n",
       "      <td>Bad Trick</td>\n",
       "      <td>Co-Starring</td>\n",
       "    </tr>\n",
       "    <tr>\n",
       "      <th>127</th>\n",
       "      <td>6:16 AM</td>\n",
       "      <td>The Lone Bellow</td>\n",
       "      <td>Good Times</td>\n",
       "      <td>Half Moon Light</td>\n",
       "    </tr>\n",
       "    <tr>\n",
       "      <th>128</th>\n",
       "      <td>6:13 AM</td>\n",
       "      <td>Van Morrison</td>\n",
       "      <td>Crazy Love</td>\n",
       "      <td>Moondance</td>\n",
       "    </tr>\n",
       "    <tr>\n",
       "      <th>129</th>\n",
       "      <td>6:11 AM</td>\n",
       "      <td>Casey Van Beek &amp; the Tulsa Groove</td>\n",
       "      <td>Thinking About You</td>\n",
       "      <td>Heaven Forever</td>\n",
       "    </tr>\n",
       "    <tr>\n",
       "      <th>130</th>\n",
       "      <td>6:03 AM</td>\n",
       "      <td>Bob Dylan</td>\n",
       "      <td>False Prophet</td>\n",
       "      <td>Rough &amp; Rowdy Ways</td>\n",
       "    </tr>\n",
       "  </tbody>\n",
       "</table>\n",
       "<p>131 rows × 4 columns</p>\n",
       "</div>"
      ],
      "text/plain": [
       "        time                             artist                    song  \\\n",
       "0    3:22 PM                         Greyhounds                 Tune In   \n",
       "1    3:16 PM                       Soccer Mommy        Circle the Drain   \n",
       "2    3:13 PM               The Head & the Heart  Sounds Like Hallelujah   \n",
       "3    3:09 PM                        Stray Fossa            For What Was   \n",
       "4    3:04 PM                        Margo Price         Letting Me Down   \n",
       "..       ...                                ...                     ...   \n",
       "126  6:21 AM                  Ray Wylie Hubbard               Bad Trick   \n",
       "127  6:16 AM                    The Lone Bellow              Good Times   \n",
       "128  6:13 AM                       Van Morrison              Crazy Love   \n",
       "129  6:11 AM  Casey Van Beek & the Tulsa Groove      Thinking About You   \n",
       "130  6:03 AM                          Bob Dylan           False Prophet   \n",
       "\n",
       "                             album  \n",
       "0                         Primates  \n",
       "1                     Color Theory  \n",
       "2             The Head & the Heart  \n",
       "3                         (Single)  \n",
       "4    That's How Rumors Get Started  \n",
       "..                             ...  \n",
       "126                    Co-Starring  \n",
       "127                Half Moon Light  \n",
       "128                      Moondance  \n",
       "129                 Heaven Forever  \n",
       "130             Rough & Rowdy Ways  \n",
       "\n",
       "[131 rows x 4 columns]"
      ]
     },
     "execution_count": 24,
     "metadata": {},
     "output_type": "execute_result"
    }
   ],
   "source": [
    "mydict = {'time':times,\n",
    "          'artist':artists,\n",
    "         'song':songs,\n",
    "         'album':albums}\n",
    "wnrn_df = pd.DataFrame(mydict)\n",
    "wnrn_df"
   ]
  },
  {
   "cell_type": "markdown",
   "metadata": {},
   "source": [
    "## Building a Spider\n",
    "At the bottom of the WNRN playlist on https://spinitron.com/WNRN/ there are links to older song playlists. Let's extend our example by building a **spider** to capture the data that exists on these links as well. A spider is a web scraper that follows links on a page automatically and scrapes from those links as well. \n",
    "\n",
    "I look at the page source for these links, and find that they are contained in a `<div class=\"recent-playlists\">` tag. I start by finding this tag. As there's only one occurrence, I can use `.find()` instead of `.find_all()`:"
   ]
  },
  {
   "cell_type": "code",
   "execution_count": 25,
   "metadata": {
    "execution": {
     "iopub.execute_input": "2020-08-04T19:25:20.581891Z",
     "iopub.status.busy": "2020-08-04T19:25:20.575205Z",
     "iopub.status.idle": "2020-08-04T19:25:20.602642Z",
     "shell.execute_reply": "2020-08-04T19:25:20.602253Z"
    }
   },
   "outputs": [
    {
     "data": {
      "text/plain": [
       "<div class=\"recent-playlists\">\n",
       "<h4>Recent</h4>\n",
       "<div class=\"grid-view\" id=\"w2\">\n",
       "<table class=\"table table-bordered table-narrow\"><tbody>\n",
       "<tr data-key=\"0\"><td class=\"show-time\">5:00 AM</td><td><strong><a href=\"/WNRN/pl/11377481/WNRN-8-4-20-5-00-AM\">WNRN 8/4/20, 5:00 AM</a></strong> with <a href=\"/WNRN/dj/104061/WNRN\">WNRN</a></td></tr>\n",
       "<tr data-key=\"1\"><td class=\"show-time\">4:00 AM</td><td><strong><a href=\"/WNRN/pl/11377367/WNRN-8-4-20-4-02-AM\">WNRN 8/4/20, 4:02 AM</a></strong> with <a href=\"/WNRN/dj/104061/WNRN\">WNRN</a></td></tr>\n",
       "<tr data-key=\"2\"><td class=\"show-time\">3:00 AM</td><td><strong><a href=\"/WNRN/pl/11377196/WNRN-8-4-20-3-03-AM\">WNRN 8/4/20, 3:03 AM</a></strong> with <a href=\"/WNRN/dj/104061/WNRN\">WNRN</a></td></tr>\n",
       "<tr data-key=\"3\"><td class=\"show-time\">12:00 AM</td><td><strong><a href=\"/WNRN/pl/11376494/WNRN\">WNRN</a></strong> (Music) with <a href=\"/WNRN/dj/104073/WNRN\">WNRN</a></td></tr>\n",
       "<tr data-key=\"4\"><td class=\"show-time\">8:00 PM</td><td><strong><a href=\"/WNRN/pl/11375321/WNRN\">WNRN</a></strong> (Music)</td></tr>\n",
       "</tbody></table>\n",
       "</div></div>"
      ]
     },
     "execution_count": 25,
     "metadata": {},
     "output_type": "execute_result"
    }
   ],
   "source": [
    "recent = wnrn.find(\"div\", \"recent-playlists\")\n",
    "recent"
   ]
  },
  {
   "cell_type": "markdown",
   "metadata": {},
   "source": [
    "Notice that all of the addresses we need are contained in `<a>` tags. We can extract these `<a>` tags with `.find_all()`:"
   ]
  },
  {
   "cell_type": "code",
   "execution_count": 26,
   "metadata": {
    "execution": {
     "iopub.execute_input": "2020-08-04T19:25:20.605612Z",
     "iopub.status.busy": "2020-08-04T19:25:20.605235Z",
     "iopub.status.idle": "2020-08-04T19:25:20.607629Z",
     "shell.execute_reply": "2020-08-04T19:25:20.607227Z"
    }
   },
   "outputs": [
    {
     "data": {
      "text/plain": [
       "[<a href=\"/WNRN/pl/11377481/WNRN-8-4-20-5-00-AM\">WNRN 8/4/20, 5:00 AM</a>,\n",
       " <a href=\"/WNRN/dj/104061/WNRN\">WNRN</a>,\n",
       " <a href=\"/WNRN/pl/11377367/WNRN-8-4-20-4-02-AM\">WNRN 8/4/20, 4:02 AM</a>,\n",
       " <a href=\"/WNRN/dj/104061/WNRN\">WNRN</a>,\n",
       " <a href=\"/WNRN/pl/11377196/WNRN-8-4-20-3-03-AM\">WNRN 8/4/20, 3:03 AM</a>,\n",
       " <a href=\"/WNRN/dj/104061/WNRN\">WNRN</a>,\n",
       " <a href=\"/WNRN/pl/11376494/WNRN\">WNRN</a>,\n",
       " <a href=\"/WNRN/dj/104073/WNRN\">WNRN</a>,\n",
       " <a href=\"/WNRN/pl/11375321/WNRN\">WNRN</a>]"
      ]
     },
     "execution_count": 26,
     "metadata": {},
     "output_type": "execute_result"
    }
   ],
   "source": [
    "recent_atags = recent.find_all(\"a\")\n",
    "recent_atags"
   ]
  },
  {
   "cell_type": "markdown",
   "metadata": {},
   "source": [
    "The resulting list contains the web endpoints we need, and also some web endpoints we don't need: we want the URLs that contain the string `/pl/` as these are playlists, and we want to exclude the URLs that contain the string `/dj/` as these pages refer to a particular DJ. We need a comprehension loop that loops across these elements, extracts the `href` attribute of the entries that include `/pl/`, and ignore the entries that include `/dj/`. We again use this syntax:\n",
    "\n",
    "*newlist* `= [` *expression* `for` *item* `in` *oldlist* `if` *condition* `]`\n",
    "\n",
    "In this case:\n",
    "\n",
    "* *newlist* is a list containing the URLs we want to direct our spider to. I call it `urls`.\n",
    "* *item* is one element of `recent_atags`, which I will call `pl`.\n",
    "* *expression* is code that extracts the web address from the `href` attribute of the `<a>` tag, so here the code would be `pl['href']`.\n",
    "* Finally, *condition* is a logical statement that should be `True` if the web address contains `/pl/` and `False` if the web address contains `/dj/`. Here, the conditional statement should be `if \"/pl/\" in pl['href']`. This code will look for the string `\"/pl/\"` inside the string called by `pl['href']` and return `True` or `False` depending on whether this string is found.\n",
    "\n",
    "Putting all this syntax together gives us our list of playlist URLs:"
   ]
  },
  {
   "cell_type": "code",
   "execution_count": 27,
   "metadata": {
    "execution": {
     "iopub.execute_input": "2020-08-04T19:25:20.610572Z",
     "iopub.status.busy": "2020-08-04T19:25:20.610170Z",
     "iopub.status.idle": "2020-08-04T19:25:20.612496Z",
     "shell.execute_reply": "2020-08-04T19:25:20.612149Z"
    }
   },
   "outputs": [
    {
     "data": {
      "text/plain": [
       "['/WNRN/pl/11377481/WNRN-8-4-20-5-00-AM',\n",
       " '/WNRN/pl/11377367/WNRN-8-4-20-4-02-AM',\n",
       " '/WNRN/pl/11377196/WNRN-8-4-20-3-03-AM',\n",
       " '/WNRN/pl/11376494/WNRN',\n",
       " '/WNRN/pl/11375321/WNRN']"
      ]
     },
     "execution_count": 27,
     "metadata": {},
     "output_type": "execute_result"
    }
   ],
   "source": [
    "wnrn_url = [pl['href'] for pl in recent_atags if \"/pl/\" in pl['href']]\n",
    "wnrn_url"
   ]
  },
  {
   "cell_type": "markdown",
   "metadata": {},
   "source": [
    "First, we need to collect all of the code we created above to extract the artist, song, album, and play times from the HTML code. We define a function that does all of this work. We specify one argument for this function, the URL, so that all the function needs is the URL and it can output a clean dataframe. I name the function `wnrn_spider()`:"
   ]
  },
  {
   "cell_type": "code",
   "execution_count": 28,
   "metadata": {
    "execution": {
     "iopub.execute_input": "2020-08-04T19:25:20.618071Z",
     "iopub.status.busy": "2020-08-04T19:25:20.617497Z",
     "iopub.status.idle": "2020-08-04T19:25:20.619437Z",
     "shell.execute_reply": "2020-08-04T19:25:20.620004Z"
    }
   },
   "outputs": [],
   "source": [
    "def wnrn_spider(url):\n",
    "    \"\"\"Perform web scraping for any WNRN playlist given the available link\"\"\"\n",
    "    \n",
    "    headers = {'user-agent': 'Kropko class example (jkropko@virginia.edu)'}\n",
    "    r = requests.get(url, headers=headers)\n",
    "    wnrn = BeautifulSoup(r.text, 'html')\n",
    "    \n",
    "    artistlist = wnrn.find_all(\"span\", \"artist\")\n",
    "    songlist = wnrn.find_all(\"span\", \"song\")\n",
    "    albumlist = wnrn.find_all(\"span\", \"release\")\n",
    "    timelist = wnrn.find_all(\"td\", \"spin-time\")\n",
    "    \n",
    "    artists = [a.string for a in artistlist]\n",
    "    songs = [a.string for a in songlist]\n",
    "    albums = [a.string for a in albumlist]\n",
    "    times = [a.string for a in timelist]\n",
    "    \n",
    "    mydict = {'time':times, 'artist':artists, 'song':songs, 'album':albums}\n",
    "    wnrn_df = pd.DataFrame(mydict)\n",
    "    \n",
    "    return wnrn_df\n"
   ]
  },
  {
   "cell_type": "markdown",
   "metadata": {},
   "source": [
    "We can pass any of the URLs we collected to our function and get the other playlists. We will have to add the domain \"https://spinitron.com\" to the beginning of each of the URLs we collected:"
   ]
  },
  {
   "cell_type": "code",
   "execution_count": 29,
   "metadata": {
    "execution": {
     "iopub.execute_input": "2020-08-04T19:25:20.623353Z",
     "iopub.status.busy": "2020-08-04T19:25:20.622459Z",
     "iopub.status.idle": "2020-08-04T19:25:20.849516Z",
     "shell.execute_reply": "2020-08-04T19:25:20.849143Z"
    }
   },
   "outputs": [
    {
     "name": "stderr",
     "output_type": "stream",
     "text": [
      "/opt/anaconda3/lib/python3.7/site-packages/bs4/__init__.py:181: UserWarning: No parser was explicitly specified, so I'm using the best available HTML parser for this system (\"lxml\"). This usually isn't a problem, but if you run this code on another system, or in a different virtual environment, it may use a different parser and behave differently.\n",
      "\n",
      "The code that caused this warning is on line 193 of the file /opt/anaconda3/lib/python3.7/runpy.py. To get rid of this warning, change code that looks like this:\n",
      "\n",
      " BeautifulSoup(YOUR_MARKUP})\n",
      "\n",
      "to this:\n",
      "\n",
      " BeautifulSoup(YOUR_MARKUP, \"lxml\")\n",
      "\n",
      "  markup_type=markup_type))\n"
     ]
    },
    {
     "data": {
      "text/html": [
       "<div>\n",
       "<style scoped>\n",
       "    .dataframe tbody tr th:only-of-type {\n",
       "        vertical-align: middle;\n",
       "    }\n",
       "\n",
       "    .dataframe tbody tr th {\n",
       "        vertical-align: top;\n",
       "    }\n",
       "\n",
       "    .dataframe thead th {\n",
       "        text-align: right;\n",
       "    }\n",
       "</style>\n",
       "<table border=\"1\" class=\"dataframe\">\n",
       "  <thead>\n",
       "    <tr style=\"text-align: right;\">\n",
       "      <th></th>\n",
       "      <th>time</th>\n",
       "      <th>artist</th>\n",
       "      <th>song</th>\n",
       "      <th>album</th>\n",
       "    </tr>\n",
       "  </thead>\n",
       "  <tbody>\n",
       "    <tr>\n",
       "      <th>0</th>\n",
       "      <td>5:00 AM</td>\n",
       "      <td>Robert Plant</td>\n",
       "      <td>Bones of Saints</td>\n",
       "      <td>Carry Fire</td>\n",
       "    </tr>\n",
       "    <tr>\n",
       "      <th>1</th>\n",
       "      <td>5:03 AM</td>\n",
       "      <td>Caroline Spence</td>\n",
       "      <td>Who's Gonna Make My Mistakes</td>\n",
       "      <td>Mint Condition</td>\n",
       "    </tr>\n",
       "    <tr>\n",
       "      <th>2</th>\n",
       "      <td>5:05 AM</td>\n",
       "      <td>Bon Iver</td>\n",
       "      <td>Holocene</td>\n",
       "      <td>Bon Iver</td>\n",
       "    </tr>\n",
       "    <tr>\n",
       "      <th>3</th>\n",
       "      <td>5:10 AM</td>\n",
       "      <td>Band of Heathens</td>\n",
       "      <td>Maple Tears</td>\n",
       "      <td>Band Of Heathens</td>\n",
       "    </tr>\n",
       "    <tr>\n",
       "      <th>4</th>\n",
       "      <td>5:14 AM</td>\n",
       "      <td>Robert Cray</td>\n",
       "      <td>Hot</td>\n",
       "      <td>That's What I Heard</td>\n",
       "    </tr>\n",
       "    <tr>\n",
       "      <th>5</th>\n",
       "      <td>5:18 AM</td>\n",
       "      <td>Washed Out</td>\n",
       "      <td>Too Late</td>\n",
       "      <td>Purple Noon</td>\n",
       "    </tr>\n",
       "    <tr>\n",
       "      <th>6</th>\n",
       "      <td>5:22 AM</td>\n",
       "      <td>Gregory Alan Isakov</td>\n",
       "      <td>Dark, Dark, Dark</td>\n",
       "      <td>Evening Machines</td>\n",
       "    </tr>\n",
       "    <tr>\n",
       "      <th>7</th>\n",
       "      <td>5:25 AM</td>\n",
       "      <td>Gordon Lightfoot</td>\n",
       "      <td>Sundown</td>\n",
       "      <td>Gord's Gold</td>\n",
       "    </tr>\n",
       "    <tr>\n",
       "      <th>8</th>\n",
       "      <td>5:29 AM</td>\n",
       "      <td>Jenny Lewis</td>\n",
       "      <td>Just One of the Guys</td>\n",
       "      <td>The Voyager</td>\n",
       "    </tr>\n",
       "    <tr>\n",
       "      <th>9</th>\n",
       "      <td>5:36 AM</td>\n",
       "      <td>Webb Wilder</td>\n",
       "      <td>Buried Our Love</td>\n",
       "      <td>High Without Love</td>\n",
       "    </tr>\n",
       "    <tr>\n",
       "      <th>10</th>\n",
       "      <td>5:42 AM</td>\n",
       "      <td>Brian Fallon</td>\n",
       "      <td>Lonely for You Only</td>\n",
       "      <td>Local Honey</td>\n",
       "    </tr>\n",
       "    <tr>\n",
       "      <th>11</th>\n",
       "      <td>5:45 AM</td>\n",
       "      <td>Edward Sharpe &amp; the Magnetic Zeros</td>\n",
       "      <td>Home</td>\n",
       "      <td>Up From Below</td>\n",
       "    </tr>\n",
       "    <tr>\n",
       "      <th>12</th>\n",
       "      <td>5:50 AM</td>\n",
       "      <td>Mt. Joy</td>\n",
       "      <td>Rearrange Us</td>\n",
       "      <td>Rearrange Us</td>\n",
       "    </tr>\n",
       "    <tr>\n",
       "      <th>13</th>\n",
       "      <td>5:53 AM</td>\n",
       "      <td>Teddy Thompson</td>\n",
       "      <td>Heartbreaker Please</td>\n",
       "      <td>Heartbreaker Please</td>\n",
       "    </tr>\n",
       "    <tr>\n",
       "      <th>14</th>\n",
       "      <td>5:56 AM</td>\n",
       "      <td>Vagabon</td>\n",
       "      <td>Water Me Down</td>\n",
       "      <td>Vagabon</td>\n",
       "    </tr>\n",
       "  </tbody>\n",
       "</table>\n",
       "</div>"
      ],
      "text/plain": [
       "       time                              artist                          song  \\\n",
       "0   5:00 AM                        Robert Plant               Bones of Saints   \n",
       "1   5:03 AM                     Caroline Spence  Who's Gonna Make My Mistakes   \n",
       "2   5:05 AM                            Bon Iver                      Holocene   \n",
       "3   5:10 AM                    Band of Heathens                   Maple Tears   \n",
       "4   5:14 AM                         Robert Cray                           Hot   \n",
       "5   5:18 AM                          Washed Out                      Too Late   \n",
       "6   5:22 AM                 Gregory Alan Isakov              Dark, Dark, Dark   \n",
       "7   5:25 AM                    Gordon Lightfoot                       Sundown   \n",
       "8   5:29 AM                         Jenny Lewis          Just One of the Guys   \n",
       "9   5:36 AM                         Webb Wilder               Buried Our Love   \n",
       "10  5:42 AM                        Brian Fallon           Lonely for You Only   \n",
       "11  5:45 AM  Edward Sharpe & the Magnetic Zeros                          Home   \n",
       "12  5:50 AM                             Mt. Joy                  Rearrange Us   \n",
       "13  5:53 AM                      Teddy Thompson           Heartbreaker Please   \n",
       "14  5:56 AM                             Vagabon                 Water Me Down   \n",
       "\n",
       "                  album  \n",
       "0            Carry Fire  \n",
       "1        Mint Condition  \n",
       "2              Bon Iver  \n",
       "3      Band Of Heathens  \n",
       "4   That's What I Heard  \n",
       "5           Purple Noon  \n",
       "6      Evening Machines  \n",
       "7           Gord's Gold  \n",
       "8           The Voyager  \n",
       "9     High Without Love  \n",
       "10          Local Honey  \n",
       "11        Up From Below  \n",
       "12         Rearrange Us  \n",
       "13  Heartbreaker Please  \n",
       "14              Vagabon  "
      ]
     },
     "execution_count": 29,
     "metadata": {},
     "output_type": "execute_result"
    }
   ],
   "source": [
    "wnrn2 = wnrn_spider('https://spinitron.com/' + wnrn_url[0])\n",
    "wnrn2"
   ]
  },
  {
   "cell_type": "markdown",
   "metadata": {},
   "source": [
    "Our goal here is to loop across all the URLs we collected, extract the data in a clean data frame, and append these data frames together to construct a longer playlist. To do that, we will use a `for` loop, which has the following syntax:\n",
    "```\n",
    "for index in list:\n",
    "    expressions\n",
    "```\n",
    "This syntax is similar to the syntax we used to build a comprehension loop. `list` is an existing list, and `index` stands in for one element of this list. For each element of the list, we execute the code contained in `expressions`, which can use the `index`.\n",
    "\n",
    "For our spider, we will use the following steps:\n",
    "\n",
    "1. We take the data we already scraped from https://spinitron.com/WNRN (saved as `wnrn_df`) and clone it as a new variable named `wnrn_total_playlist`. It is important that we make a copy, and that we do not overwrite `wnrn_df`. We will be repeatedly saving over `wnrn_total_playlist` within the loop, and if we do not overwrite `wnrn_df`, it gives us a stable data frame to return to as a starting point if we need to rerun this loop. \n",
    "\n",
    "2. We use a `for` loop to loop across all the web addresses inside `wnrn_url`.\n",
    "\n",
    "3. In the `for` loop, we use the `wnrn_spider()` function to extract the playlist data from each of the URLs inside `wnrn_url`.\n",
    "\n",
    "4. In the `for` loop, we use the `.append()` method to attach the new data to the bottom of the existing data, matching corresponding columns.\n",
    "\n",
    "The code is as follows:"
   ]
  },
  {
   "cell_type": "code",
   "execution_count": 30,
   "metadata": {
    "execution": {
     "iopub.execute_input": "2020-08-04T19:25:20.853127Z",
     "iopub.status.busy": "2020-08-04T19:25:20.852342Z",
     "iopub.status.idle": "2020-08-04T19:25:22.182096Z",
     "shell.execute_reply": "2020-08-04T19:25:22.182503Z"
    }
   },
   "outputs": [
    {
     "name": "stderr",
     "output_type": "stream",
     "text": [
      "/opt/anaconda3/lib/python3.7/site-packages/bs4/__init__.py:181: UserWarning: No parser was explicitly specified, so I'm using the best available HTML parser for this system (\"lxml\"). This usually isn't a problem, but if you run this code on another system, or in a different virtual environment, it may use a different parser and behave differently.\n",
      "\n",
      "The code that caused this warning is on line 193 of the file /opt/anaconda3/lib/python3.7/runpy.py. To get rid of this warning, change code that looks like this:\n",
      "\n",
      " BeautifulSoup(YOUR_MARKUP})\n",
      "\n",
      "to this:\n",
      "\n",
      " BeautifulSoup(YOUR_MARKUP, \"lxml\")\n",
      "\n",
      "  markup_type=markup_type))\n"
     ]
    }
   ],
   "source": [
    "wnrn_total_playlist = wnrn_df \n",
    "for w in wnrn_url:\n",
    "    moredata = wnrn_spider('https://spinitron.com/' + w) \n",
    "    wnrn_total_playlist = wnrn_total_playlist.append(moredata)"
   ]
  },
  {
   "cell_type": "markdown",
   "metadata": {},
   "source": [
    "We now have a data frame that combines all of the playlists on https://spinitron.com/WNRN and on the playlists linked to under \"Recent\":"
   ]
  },
  {
   "cell_type": "code",
   "execution_count": 31,
   "metadata": {
    "execution": {
     "iopub.execute_input": "2020-08-04T19:25:22.190535Z",
     "iopub.status.busy": "2020-08-04T19:25:22.189879Z",
     "iopub.status.idle": "2020-08-04T19:25:22.192769Z",
     "shell.execute_reply": "2020-08-04T19:25:22.192405Z"
    }
   },
   "outputs": [
    {
     "data": {
      "text/html": [
       "<div>\n",
       "<style scoped>\n",
       "    .dataframe tbody tr th:only-of-type {\n",
       "        vertical-align: middle;\n",
       "    }\n",
       "\n",
       "    .dataframe tbody tr th {\n",
       "        vertical-align: top;\n",
       "    }\n",
       "\n",
       "    .dataframe thead th {\n",
       "        text-align: right;\n",
       "    }\n",
       "</style>\n",
       "<table border=\"1\" class=\"dataframe\">\n",
       "  <thead>\n",
       "    <tr style=\"text-align: right;\">\n",
       "      <th></th>\n",
       "      <th>time</th>\n",
       "      <th>artist</th>\n",
       "      <th>song</th>\n",
       "      <th>album</th>\n",
       "    </tr>\n",
       "  </thead>\n",
       "  <tbody>\n",
       "    <tr>\n",
       "      <th>0</th>\n",
       "      <td>3:22 PM</td>\n",
       "      <td>Greyhounds</td>\n",
       "      <td>Tune In</td>\n",
       "      <td>Primates</td>\n",
       "    </tr>\n",
       "    <tr>\n",
       "      <th>1</th>\n",
       "      <td>3:16 PM</td>\n",
       "      <td>Soccer Mommy</td>\n",
       "      <td>Circle the Drain</td>\n",
       "      <td>Color Theory</td>\n",
       "    </tr>\n",
       "    <tr>\n",
       "      <th>2</th>\n",
       "      <td>3:13 PM</td>\n",
       "      <td>The Head &amp; the Heart</td>\n",
       "      <td>Sounds Like Hallelujah</td>\n",
       "      <td>The Head &amp; the Heart</td>\n",
       "    </tr>\n",
       "    <tr>\n",
       "      <th>3</th>\n",
       "      <td>3:09 PM</td>\n",
       "      <td>Stray Fossa</td>\n",
       "      <td>For What Was</td>\n",
       "      <td>(Single)</td>\n",
       "    </tr>\n",
       "    <tr>\n",
       "      <th>4</th>\n",
       "      <td>3:04 PM</td>\n",
       "      <td>Margo Price</td>\n",
       "      <td>Letting Me Down</td>\n",
       "      <td>That's How Rumors Get Started</td>\n",
       "    </tr>\n",
       "    <tr>\n",
       "      <th>...</th>\n",
       "      <td>...</td>\n",
       "      <td>...</td>\n",
       "      <td>...</td>\n",
       "      <td>...</td>\n",
       "    </tr>\n",
       "    <tr>\n",
       "      <th>53</th>\n",
       "      <td>11:43 PM</td>\n",
       "      <td>Haim</td>\n",
       "      <td>The Steps</td>\n",
       "      <td>Women in Music Pt. III</td>\n",
       "    </tr>\n",
       "    <tr>\n",
       "      <th>54</th>\n",
       "      <td>11:48 PM</td>\n",
       "      <td>Sondre Lerche</td>\n",
       "      <td>I Can't See Myself Without You</td>\n",
       "      <td>Patience</td>\n",
       "    </tr>\n",
       "    <tr>\n",
       "      <th>55</th>\n",
       "      <td>11:51 PM</td>\n",
       "      <td>David Gray</td>\n",
       "      <td>Babylon</td>\n",
       "      <td>White Ladder</td>\n",
       "    </tr>\n",
       "    <tr>\n",
       "      <th>56</th>\n",
       "      <td>11:55 PM</td>\n",
       "      <td>Best Coast</td>\n",
       "      <td>For the First Time</td>\n",
       "      <td>Always Tomorrow</td>\n",
       "    </tr>\n",
       "    <tr>\n",
       "      <th>57</th>\n",
       "      <td>11:58 PM</td>\n",
       "      <td>San Fermin</td>\n",
       "      <td>Emily</td>\n",
       "      <td>Jackrabbit</td>\n",
       "    </tr>\n",
       "  </tbody>\n",
       "</table>\n",
       "<p>282 rows × 4 columns</p>\n",
       "</div>"
      ],
      "text/plain": [
       "        time                artist                            song  \\\n",
       "0    3:22 PM            Greyhounds                         Tune In   \n",
       "1    3:16 PM          Soccer Mommy                Circle the Drain   \n",
       "2    3:13 PM  The Head & the Heart          Sounds Like Hallelujah   \n",
       "3    3:09 PM           Stray Fossa                    For What Was   \n",
       "4    3:04 PM           Margo Price                 Letting Me Down   \n",
       "..       ...                   ...                             ...   \n",
       "53  11:43 PM                  Haim                       The Steps   \n",
       "54  11:48 PM         Sondre Lerche  I Can't See Myself Without You   \n",
       "55  11:51 PM            David Gray                         Babylon   \n",
       "56  11:55 PM            Best Coast              For the First Time   \n",
       "57  11:58 PM            San Fermin                           Emily   \n",
       "\n",
       "                            album  \n",
       "0                        Primates  \n",
       "1                    Color Theory  \n",
       "2            The Head & the Heart  \n",
       "3                        (Single)  \n",
       "4   That's How Rumors Get Started  \n",
       "..                            ...  \n",
       "53         Women in Music Pt. III  \n",
       "54                       Patience  \n",
       "55                   White Ladder  \n",
       "56                Always Tomorrow  \n",
       "57                     Jackrabbit  \n",
       "\n",
       "[282 rows x 4 columns]"
      ]
     },
     "execution_count": 31,
     "metadata": {},
     "output_type": "execute_result"
    }
   ],
   "source": [
    "wnrn_total_playlist"
   ]
  }
 ],
 "metadata": {
  "kernelspec": {
   "display_name": "Python 3",
   "language": "python",
   "name": "python3"
  },
  "language_info": {
   "codemirror_mode": {
    "name": "ipython",
    "version": 3
   },
   "file_extension": ".py",
   "mimetype": "text/x-python",
   "name": "python",
   "nbconvert_exporter": "python",
   "pygments_lexer": "ipython3",
   "version": "3.7.6"
  }
 },
 "nbformat": 4,
 "nbformat_minor": 4
}